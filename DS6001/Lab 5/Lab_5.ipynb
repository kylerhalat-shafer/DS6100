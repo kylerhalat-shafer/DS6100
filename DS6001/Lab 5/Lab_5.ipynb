{
 "cells": [
  {
   "cell_type": "markdown",
   "id": "2ece0634-350c-4f37-9c55-08ccea252902",
   "metadata": {},
   "source": [
    "# Lab 5\n",
    "## Student: Kyler Halat-Shafer\n",
    "## UserID: uxt5qb"
   ]
  },
  {
   "cell_type": "markdown",
   "id": "46338e9d-0e00-46f6-8921-f2b528708fc5",
   "metadata": {},
   "source": [
    "### Problem 0"
   ]
  },
  {
   "cell_type": "code",
   "execution_count": 1,
   "id": "baf90768-ea6f-4adc-bc51-fc00264e1b2f",
   "metadata": {},
   "outputs": [],
   "source": [
    "import numpy as np\n",
    "import pandas as pd\n",
    "import requests\n",
    "from bs4 import BeautifulSoup\n",
    "import sys\n",
    "sys.tracebacklimit = 0 # turn off the error tracebacks"
   ]
  },
  {
   "cell_type": "markdown",
   "id": "4134e449-7b4a-4a66-970a-efc7609b22a0",
   "metadata": {},
   "source": [
    "### Problem 1"
   ]
  },
  {
   "cell_type": "code",
   "execution_count": 4,
   "id": "2b404abf-e636-43eb-ac60-d4dfa5302922",
   "metadata": {},
   "outputs": [],
   "source": [
    "url = 'https://books.toscrape.com/'"
   ]
  },
  {
   "cell_type": "code",
   "execution_count": 5,
   "id": "8e3ff7c2-04db-4eb5-9636-69c82f61e3c0",
   "metadata": {},
   "outputs": [],
   "source": [
    "useragent = 'Mozilla/5.0 (Macintosh; Intel Mac OS X 10_15_7) AppleWebKit/537.36 (KHTML, like Gecko) Chrome/102.0.0.0 Safari/537.36'"
   ]
  },
  {
   "cell_type": "code",
   "execution_count": 117,
   "id": "c3550fd2-ddab-4d85-840e-a0f1012cdda2",
   "metadata": {},
   "outputs": [
    {
     "data": {
      "text/plain": [
       "<Response [200]>"
      ]
     },
     "execution_count": 117,
     "metadata": {},
     "output_type": "execute_result"
    }
   ],
   "source": [
    "r = requests.get(url, headers = {'User-agent' :'Kyler Halat-Shafer, a student from University of Virginia, if there are questions email me at uxt5qb@virginia.edu'})\n",
    "r"
   ]
  },
  {
   "cell_type": "code",
   "execution_count": 126,
   "id": "9015463f-1e5a-48cb-a57c-43b63275c910",
   "metadata": {},
   "outputs": [],
   "source": [
    "soup = BeautifulSoup(r.text,\"html.parser\")\n",
    "#soup"
   ]
  },
  {
   "cell_type": "markdown",
   "id": "888f1bdb-3af6-473d-932e-4366923f79e4",
   "metadata": {},
   "source": [
    "### Problem 2"
   ]
  },
  {
   "cell_type": "code",
   "execution_count": 118,
   "id": "f07080fe-83cd-4b62-9913-23535e40e565",
   "metadata": {},
   "outputs": [
    {
     "data": {
      "text/plain": [
       "'A Light in the Attic'"
      ]
     },
     "execution_count": 118,
     "metadata": {},
     "output_type": "execute_result"
    }
   ],
   "source": [
    "#First understanding where to find the book title\n",
    "soup.find_all('img')[0]['alt']"
   ]
  },
  {
   "cell_type": "code",
   "execution_count": 119,
   "id": "55857f57-8c4c-470d-bacb-01794cb617ff",
   "metadata": {},
   "outputs": [
    {
     "data": {
      "text/plain": [
       "['A Light in the Attic',\n",
       " 'Tipping the Velvet',\n",
       " 'Soumission',\n",
       " 'Sharp Objects',\n",
       " 'Sapiens: A Brief History of Humankind',\n",
       " 'The Requiem Red',\n",
       " 'The Dirty Little Secrets of Getting Your Dream Job',\n",
       " 'The Coming Woman: A Novel Based on the Life of the Infamous Feminist, Victoria Woodhull',\n",
       " 'The Boys in the Boat: Nine Americans and Their Epic Quest for Gold at the 1936 Berlin Olympics',\n",
       " 'The Black Maria',\n",
       " 'Starving Hearts (Triangular Trade Trilogy, #1)',\n",
       " \"Shakespeare's Sonnets\",\n",
       " 'Set Me Free',\n",
       " \"Scott Pilgrim's Precious Little Life (Scott Pilgrim #1)\",\n",
       " 'Rip it Up and Start Again',\n",
       " 'Our Band Could Be Your Life: Scenes from the American Indie Underground, 1981-1991',\n",
       " 'Olio',\n",
       " 'Mesaerion: The Best Science Fiction Stories 1800-1849',\n",
       " 'Libertarianism for Beginners',\n",
       " \"It's Only the Himalayas\"]"
      ]
     },
     "execution_count": 119,
     "metadata": {},
     "output_type": "execute_result"
    }
   ],
   "source": [
    "#Extracting the 20 books by using a list comprehension\n",
    "books = [x['alt'] for x in soup.find_all('img')]\n",
    "books"
   ]
  },
  {
   "cell_type": "markdown",
   "id": "12a35aaa-33cf-4d08-9235-182424af5cee",
   "metadata": {},
   "source": [
    "### Problem 3"
   ]
  },
  {
   "cell_type": "code",
   "execution_count": 52,
   "id": "b3c6d78a-9e3b-4fa0-aa97-f9a997844cc5",
   "metadata": {},
   "outputs": [
    {
     "data": {
      "text/plain": [
       "'Â£51.77'"
      ]
     },
     "execution_count": 52,
     "metadata": {},
     "output_type": "execute_result"
    }
   ],
   "source": [
    "# the 'p' is the first thing that we see in the HTML, then we are looking at a dictionary where the key-value pair is class and price color\n",
    "soup.find_all('p',{'class':'price_color'})[0].string"
   ]
  },
  {
   "cell_type": "code",
   "execution_count": 51,
   "id": "2acc1fd2-bb10-47ca-84c9-92d0ccbbccaa",
   "metadata": {},
   "outputs": [
    {
     "data": {
      "text/plain": [
       "['Â£51.77',\n",
       " 'Â£53.74',\n",
       " 'Â£50.10',\n",
       " 'Â£47.82',\n",
       " 'Â£54.23',\n",
       " 'Â£22.65',\n",
       " 'Â£33.34',\n",
       " 'Â£17.93',\n",
       " 'Â£22.60',\n",
       " 'Â£52.15',\n",
       " 'Â£13.99',\n",
       " 'Â£20.66',\n",
       " 'Â£17.46',\n",
       " 'Â£52.29',\n",
       " 'Â£35.02',\n",
       " 'Â£57.25',\n",
       " 'Â£23.88',\n",
       " 'Â£37.59',\n",
       " 'Â£51.33',\n",
       " 'Â£45.17']"
      ]
     },
     "execution_count": 51,
     "metadata": {},
     "output_type": "execute_result"
    }
   ],
   "source": [
    "# This is using a list comprehension, x as a string for the output, instead of HTML, for x (an object) in the soup defined by 'p', {'class':price_color'}\n",
    "price = [x.string for x in soup.find_all('p',{'class':'price_color'})]\n",
    "price"
   ]
  },
  {
   "cell_type": "code",
   "execution_count": 53,
   "id": "e9f0f26d-0f9e-45e0-ae0f-293a1afdce2b",
   "metadata": {},
   "outputs": [
    {
     "data": {
      "text/plain": [
       "['51.77',\n",
       " '53.74',\n",
       " '50.10',\n",
       " '47.82',\n",
       " '54.23',\n",
       " '22.65',\n",
       " '33.34',\n",
       " '17.93',\n",
       " '22.60',\n",
       " '52.15',\n",
       " '13.99',\n",
       " '20.66',\n",
       " '17.46',\n",
       " '52.29',\n",
       " '35.02',\n",
       " '57.25',\n",
       " '23.88',\n",
       " '37.59',\n",
       " '51.33',\n",
       " '45.17']"
      ]
     },
     "execution_count": 53,
     "metadata": {},
     "output_type": "execute_result"
    }
   ],
   "source": [
    "# From there we are able to replace the symbols with spaces to make them numbers \n",
    "price = [s.replace('Â£', '') for s in price]\n",
    "price"
   ]
  },
  {
   "cell_type": "markdown",
   "id": "8d20e9cc-e1fb-46f1-b72a-cedaab102ca9",
   "metadata": {},
   "source": [
    "### Problem 4"
   ]
  },
  {
   "cell_type": "code",
   "execution_count": 121,
   "id": "f7a66c9c-cce8-4d18-8de4-3f9ba47d7066",
   "metadata": {},
   "outputs": [
    {
     "data": {
      "text/plain": [
       "<p class=\"star-rating Three\">\n",
       "<i class=\"icon-star\"></i>\n",
       "<i class=\"icon-star\"></i>\n",
       "<i class=\"icon-star\"></i>\n",
       "<i class=\"icon-star\"></i>\n",
       "<i class=\"icon-star\"></i>\n",
       "</p>"
      ]
     },
     "execution_count": 121,
     "metadata": {},
     "output_type": "execute_result"
    }
   ],
   "source": [
    "# This was after a couple of attempts to figure out how to get down to what was needed\n",
    "soup.find_all('p',{'class':'star-rating'})[0]"
   ]
  },
  {
   "cell_type": "code",
   "execution_count": 120,
   "id": "ad7932f1-007e-4a29-bede-af2f9731aa86",
   "metadata": {},
   "outputs": [
    {
     "data": {
      "text/plain": [
       "'Three'"
      ]
     },
     "execution_count": 120,
     "metadata": {},
     "output_type": "execute_result"
    }
   ],
   "source": [
    "#This is searching for p and is then looking at 'star-rating' for the first element, \n",
    "#then calling the class list and the second element in that list, which is the ranking \n",
    "\n",
    "soup.find_all('p','star-rating')[0]['class'][1]"
   ]
  },
  {
   "cell_type": "code",
   "execution_count": 122,
   "id": "935333e2-34cd-408d-8b2b-8770a3db22cd",
   "metadata": {},
   "outputs": [
    {
     "data": {
      "text/plain": [
       "['Three',\n",
       " 'One',\n",
       " 'One',\n",
       " 'Four',\n",
       " 'Five',\n",
       " 'One',\n",
       " 'Four',\n",
       " 'Three',\n",
       " 'Four',\n",
       " 'One',\n",
       " 'Two',\n",
       " 'Four',\n",
       " 'Five',\n",
       " 'Five',\n",
       " 'Five',\n",
       " 'Three',\n",
       " 'One',\n",
       " 'One',\n",
       " 'Two',\n",
       " 'Two']"
      ]
     },
     "execution_count": 122,
     "metadata": {},
     "output_type": "execute_result"
    }
   ],
   "source": [
    "# x['class'][1] is the output | for x (the object) in the list that is defined by 'p' and then down into 'star-rating' -- I think of this as working down the tree\n",
    "ratings = [x['class'][1] for x in soup.find_all('p','star-rating')]\n",
    "ratings"
   ]
  },
  {
   "cell_type": "markdown",
   "id": "3d58395c-02b7-4b5f-aaa2-8ca0d60402c0",
   "metadata": {},
   "source": [
    "### Problem 5"
   ]
  },
  {
   "cell_type": "code",
   "execution_count": 127,
   "id": "d954276b-15b1-4b8d-8c20-38058bbe519f",
   "metadata": {},
   "outputs": [
    {
     "data": {
      "text/plain": [
       "'../media/cache/00/25/0025515e987a1ebd648773f9ac70bfe6.jpg'"
      ]
     },
     "execution_count": 127,
     "metadata": {},
     "output_type": "execute_result"
    }
   ],
   "source": [
    "#Using a similar format to what was done in Problem 2, but instead of using 'alt' I used 'src' which returns the jpeg img\n",
    "soup.find_all('img')[0]['src']"
   ]
  },
  {
   "cell_type": "code",
   "execution_count": 96,
   "id": "9ff106f9-e7fe-4cdb-99f3-c9527ffd1b4e",
   "metadata": {},
   "outputs": [
    {
     "data": {
      "text/plain": [
       "['media/cache/2c/da/2cdad67c44b002e7ead0cc35693c0e8b.jpg',\n",
       " 'media/cache/26/0c/260c6ae16bce31c8f8c95daddd9f4a1c.jpg',\n",
       " 'media/cache/3e/ef/3eef99c9d9adef34639f510662022830.jpg',\n",
       " 'media/cache/32/51/3251cf3a3412f53f339e42cac2134093.jpg',\n",
       " 'media/cache/be/a5/bea5697f2534a2f86a3ef27b5a8c12a6.jpg',\n",
       " 'media/cache/68/33/68339b4c9bc034267e1da611ab3b34f8.jpg',\n",
       " 'media/cache/92/27/92274a95b7c251fea59a2b8a78275ab4.jpg',\n",
       " 'media/cache/3d/54/3d54940e57e662c4dd1f3ff00c78cc64.jpg',\n",
       " 'media/cache/66/88/66883b91f6804b2323c8369331cb7dd1.jpg',\n",
       " 'media/cache/58/46/5846057e28022268153beff6d352b06c.jpg',\n",
       " 'media/cache/be/f4/bef44da28c98f905a3ebec0b87be8530.jpg',\n",
       " 'media/cache/10/48/1048f63d3b5061cd2f424d20b3f9b666.jpg',\n",
       " 'media/cache/5b/88/5b88c52633f53cacf162c15f4f823153.jpg',\n",
       " 'media/cache/94/b1/94b1b8b244bce9677c2f29ccc890d4d2.jpg',\n",
       " 'media/cache/81/c4/81c4a973364e17d01f217e1188253d5e.jpg',\n",
       " 'media/cache/54/60/54607fe8945897cdcced0044103b10b6.jpg',\n",
       " 'media/cache/55/33/553310a7162dfbc2c6d19a84da0df9e1.jpg',\n",
       " 'media/cache/09/a3/09a3aef48557576e1a85ba7efea8ecb7.jpg',\n",
       " 'media/cache/0b/bc/0bbcd0a6f4bcd81ccb1049a52736406e.jpg',\n",
       " 'media/cache/27/a5/27a53d0bb95bdd88288eaf66c9230d7e.jpg']"
      ]
     },
     "execution_count": 96,
     "metadata": {},
     "output_type": "execute_result"
    }
   ],
   "source": [
    "images = [x['src'] for x in soup.find_all('img')]\n",
    "images"
   ]
  },
  {
   "cell_type": "markdown",
   "id": "65513ad5-e2f3-49ef-875e-f60229de0f6d",
   "metadata": {},
   "source": [
    "### Problem 6"
   ]
  },
  {
   "cell_type": "code",
   "execution_count": 128,
   "id": "15438d63-fd2a-4788-9645-cc9fdbd553ed",
   "metadata": {},
   "outputs": [
    {
     "data": {
      "text/html": [
       "<div>\n",
       "<style scoped>\n",
       "    .dataframe tbody tr th:only-of-type {\n",
       "        vertical-align: middle;\n",
       "    }\n",
       "\n",
       "    .dataframe tbody tr th {\n",
       "        vertical-align: top;\n",
       "    }\n",
       "\n",
       "    .dataframe thead th {\n",
       "        text-align: right;\n",
       "    }\n",
       "</style>\n",
       "<table border=\"1\" class=\"dataframe\">\n",
       "  <thead>\n",
       "    <tr style=\"text-align: right;\">\n",
       "      <th></th>\n",
       "      <th>title</th>\n",
       "      <th>price</th>\n",
       "      <th>ratings</th>\n",
       "      <th>JPEG URL</th>\n",
       "    </tr>\n",
       "  </thead>\n",
       "  <tbody>\n",
       "    <tr>\n",
       "      <th>0</th>\n",
       "      <td>A Light in the Attic</td>\n",
       "      <td>51.77</td>\n",
       "      <td>Three</td>\n",
       "      <td>media/cache/2c/da/2cdad67c44b002e7ead0cc35693c...</td>\n",
       "    </tr>\n",
       "    <tr>\n",
       "      <th>1</th>\n",
       "      <td>Tipping the Velvet</td>\n",
       "      <td>53.74</td>\n",
       "      <td>One</td>\n",
       "      <td>media/cache/26/0c/260c6ae16bce31c8f8c95daddd9f...</td>\n",
       "    </tr>\n",
       "    <tr>\n",
       "      <th>2</th>\n",
       "      <td>Soumission</td>\n",
       "      <td>50.10</td>\n",
       "      <td>One</td>\n",
       "      <td>media/cache/3e/ef/3eef99c9d9adef34639f51066202...</td>\n",
       "    </tr>\n",
       "    <tr>\n",
       "      <th>3</th>\n",
       "      <td>Sharp Objects</td>\n",
       "      <td>47.82</td>\n",
       "      <td>Four</td>\n",
       "      <td>media/cache/32/51/3251cf3a3412f53f339e42cac213...</td>\n",
       "    </tr>\n",
       "    <tr>\n",
       "      <th>4</th>\n",
       "      <td>Sapiens: A Brief History of Humankind</td>\n",
       "      <td>54.23</td>\n",
       "      <td>Five</td>\n",
       "      <td>media/cache/be/a5/bea5697f2534a2f86a3ef27b5a8c...</td>\n",
       "    </tr>\n",
       "    <tr>\n",
       "      <th>5</th>\n",
       "      <td>The Requiem Red</td>\n",
       "      <td>22.65</td>\n",
       "      <td>One</td>\n",
       "      <td>media/cache/68/33/68339b4c9bc034267e1da611ab3b...</td>\n",
       "    </tr>\n",
       "    <tr>\n",
       "      <th>6</th>\n",
       "      <td>The Dirty Little Secrets of Getting Your Dream...</td>\n",
       "      <td>33.34</td>\n",
       "      <td>Four</td>\n",
       "      <td>media/cache/92/27/92274a95b7c251fea59a2b8a7827...</td>\n",
       "    </tr>\n",
       "    <tr>\n",
       "      <th>7</th>\n",
       "      <td>The Coming Woman: A Novel Based on the Life of...</td>\n",
       "      <td>17.93</td>\n",
       "      <td>Three</td>\n",
       "      <td>media/cache/3d/54/3d54940e57e662c4dd1f3ff00c78...</td>\n",
       "    </tr>\n",
       "    <tr>\n",
       "      <th>8</th>\n",
       "      <td>The Boys in the Boat: Nine Americans and Their...</td>\n",
       "      <td>22.60</td>\n",
       "      <td>Four</td>\n",
       "      <td>media/cache/66/88/66883b91f6804b2323c8369331cb...</td>\n",
       "    </tr>\n",
       "    <tr>\n",
       "      <th>9</th>\n",
       "      <td>The Black Maria</td>\n",
       "      <td>52.15</td>\n",
       "      <td>One</td>\n",
       "      <td>media/cache/58/46/5846057e28022268153beff6d352...</td>\n",
       "    </tr>\n",
       "    <tr>\n",
       "      <th>10</th>\n",
       "      <td>Starving Hearts (Triangular Trade Trilogy, #1)</td>\n",
       "      <td>13.99</td>\n",
       "      <td>Two</td>\n",
       "      <td>media/cache/be/f4/bef44da28c98f905a3ebec0b87be...</td>\n",
       "    </tr>\n",
       "    <tr>\n",
       "      <th>11</th>\n",
       "      <td>Shakespeare's Sonnets</td>\n",
       "      <td>20.66</td>\n",
       "      <td>Four</td>\n",
       "      <td>media/cache/10/48/1048f63d3b5061cd2f424d20b3f9...</td>\n",
       "    </tr>\n",
       "    <tr>\n",
       "      <th>12</th>\n",
       "      <td>Set Me Free</td>\n",
       "      <td>17.46</td>\n",
       "      <td>Five</td>\n",
       "      <td>media/cache/5b/88/5b88c52633f53cacf162c15f4f82...</td>\n",
       "    </tr>\n",
       "    <tr>\n",
       "      <th>13</th>\n",
       "      <td>Scott Pilgrim's Precious Little Life (Scott Pi...</td>\n",
       "      <td>52.29</td>\n",
       "      <td>Five</td>\n",
       "      <td>media/cache/94/b1/94b1b8b244bce9677c2f29ccc890...</td>\n",
       "    </tr>\n",
       "    <tr>\n",
       "      <th>14</th>\n",
       "      <td>Rip it Up and Start Again</td>\n",
       "      <td>35.02</td>\n",
       "      <td>Five</td>\n",
       "      <td>media/cache/81/c4/81c4a973364e17d01f217e118825...</td>\n",
       "    </tr>\n",
       "    <tr>\n",
       "      <th>15</th>\n",
       "      <td>Our Band Could Be Your Life: Scenes from the A...</td>\n",
       "      <td>57.25</td>\n",
       "      <td>Three</td>\n",
       "      <td>media/cache/54/60/54607fe8945897cdcced0044103b...</td>\n",
       "    </tr>\n",
       "    <tr>\n",
       "      <th>16</th>\n",
       "      <td>Olio</td>\n",
       "      <td>23.88</td>\n",
       "      <td>One</td>\n",
       "      <td>media/cache/55/33/553310a7162dfbc2c6d19a84da0d...</td>\n",
       "    </tr>\n",
       "    <tr>\n",
       "      <th>17</th>\n",
       "      <td>Mesaerion: The Best Science Fiction Stories 18...</td>\n",
       "      <td>37.59</td>\n",
       "      <td>One</td>\n",
       "      <td>media/cache/09/a3/09a3aef48557576e1a85ba7efea8...</td>\n",
       "    </tr>\n",
       "    <tr>\n",
       "      <th>18</th>\n",
       "      <td>Libertarianism for Beginners</td>\n",
       "      <td>51.33</td>\n",
       "      <td>Two</td>\n",
       "      <td>media/cache/0b/bc/0bbcd0a6f4bcd81ccb1049a52736...</td>\n",
       "    </tr>\n",
       "    <tr>\n",
       "      <th>19</th>\n",
       "      <td>It's Only the Himalayas</td>\n",
       "      <td>45.17</td>\n",
       "      <td>Two</td>\n",
       "      <td>media/cache/27/a5/27a53d0bb95bdd88288eaf66c923...</td>\n",
       "    </tr>\n",
       "  </tbody>\n",
       "</table>\n",
       "</div>"
      ],
      "text/plain": [
       "                                                title  price ratings  \\\n",
       "0                                A Light in the Attic  51.77   Three   \n",
       "1                                  Tipping the Velvet  53.74     One   \n",
       "2                                          Soumission  50.10     One   \n",
       "3                                       Sharp Objects  47.82    Four   \n",
       "4               Sapiens: A Brief History of Humankind  54.23    Five   \n",
       "5                                     The Requiem Red  22.65     One   \n",
       "6   The Dirty Little Secrets of Getting Your Dream...  33.34    Four   \n",
       "7   The Coming Woman: A Novel Based on the Life of...  17.93   Three   \n",
       "8   The Boys in the Boat: Nine Americans and Their...  22.60    Four   \n",
       "9                                     The Black Maria  52.15     One   \n",
       "10     Starving Hearts (Triangular Trade Trilogy, #1)  13.99     Two   \n",
       "11                              Shakespeare's Sonnets  20.66    Four   \n",
       "12                                        Set Me Free  17.46    Five   \n",
       "13  Scott Pilgrim's Precious Little Life (Scott Pi...  52.29    Five   \n",
       "14                          Rip it Up and Start Again  35.02    Five   \n",
       "15  Our Band Could Be Your Life: Scenes from the A...  57.25   Three   \n",
       "16                                               Olio  23.88     One   \n",
       "17  Mesaerion: The Best Science Fiction Stories 18...  37.59     One   \n",
       "18                       Libertarianism for Beginners  51.33     Two   \n",
       "19                            It's Only the Himalayas  45.17     Two   \n",
       "\n",
       "                                             JPEG URL  \n",
       "0   media/cache/2c/da/2cdad67c44b002e7ead0cc35693c...  \n",
       "1   media/cache/26/0c/260c6ae16bce31c8f8c95daddd9f...  \n",
       "2   media/cache/3e/ef/3eef99c9d9adef34639f51066202...  \n",
       "3   media/cache/32/51/3251cf3a3412f53f339e42cac213...  \n",
       "4   media/cache/be/a5/bea5697f2534a2f86a3ef27b5a8c...  \n",
       "5   media/cache/68/33/68339b4c9bc034267e1da611ab3b...  \n",
       "6   media/cache/92/27/92274a95b7c251fea59a2b8a7827...  \n",
       "7   media/cache/3d/54/3d54940e57e662c4dd1f3ff00c78...  \n",
       "8   media/cache/66/88/66883b91f6804b2323c8369331cb...  \n",
       "9   media/cache/58/46/5846057e28022268153beff6d352...  \n",
       "10  media/cache/be/f4/bef44da28c98f905a3ebec0b87be...  \n",
       "11  media/cache/10/48/1048f63d3b5061cd2f424d20b3f9...  \n",
       "12  media/cache/5b/88/5b88c52633f53cacf162c15f4f82...  \n",
       "13  media/cache/94/b1/94b1b8b244bce9677c2f29ccc890...  \n",
       "14  media/cache/81/c4/81c4a973364e17d01f217e118825...  \n",
       "15  media/cache/54/60/54607fe8945897cdcced0044103b...  \n",
       "16  media/cache/55/33/553310a7162dfbc2c6d19a84da0d...  \n",
       "17  media/cache/09/a3/09a3aef48557576e1a85ba7efea8...  \n",
       "18  media/cache/0b/bc/0bbcd0a6f4bcd81ccb1049a52736...  \n",
       "19  media/cache/27/a5/27a53d0bb95bdd88288eaf66c923...  "
      ]
     },
     "execution_count": 128,
     "metadata": {},
     "output_type": "execute_result"
    }
   ],
   "source": [
    "#First I create a dictionary by naming the keys accoridng to what is in the lab and then matching those keys with the values that I have as the output from the list comprehensions\n",
    "\n",
    "mydict = {'title':books,\n",
    "          'price': price,\n",
    "          'ratings':ratings,\n",
    "         'JPEG URL':images}\n",
    "    \n",
    "mydf = pd.DataFrame(mydict)\n",
    "mydf"
   ]
  },
  {
   "cell_type": "markdown",
   "id": "bb1786a5-7022-4ad1-839a-c95a671e758b",
   "metadata": {},
   "source": [
    "### Problem 7"
   ]
  },
  {
   "cell_type": "code",
   "execution_count": 129,
   "id": "1bfbe2d1-f800-4a62-98ca-12ed888c3874",
   "metadata": {},
   "outputs": [],
   "source": [
    "#By combining everything under one roof of a function it can then be called to reduce text\n",
    "\n",
    "def scraplyfe(url):\n",
    "    r = requests.get(url, headers = {'User-agent' :useragent})\n",
    "    soup = BeautifulSoup(r.text,\"html.parser\")\n",
    "    \n",
    "    books = [x['alt'] for x in soup.find_all('img')]\n",
    "    price = [x.string for x in soup.find_all('p',{'class':'price_color'})]\n",
    "    price = [s.replace('Â£', '') for s in price]\n",
    "    ratings = [x['class'][1] for x in soup.find_all('p','star-rating')]\n",
    "    images = [x['src'] for x in soup.find_all('img')]\n",
    "    \n",
    "    mydict = {'title':books,\n",
    "          'price': price,\n",
    "          'ratings':ratings,\n",
    "         'JPEG URL':images}\n",
    "    mydf = pd.DataFrame(mydict)\n",
    "    return mydf"
   ]
  },
  {
   "cell_type": "code",
   "execution_count": 106,
   "id": "b9dae2af-c573-4fe7-8bb8-66d09a31141e",
   "metadata": {},
   "outputs": [
    {
     "data": {
      "text/html": [
       "<div>\n",
       "<style scoped>\n",
       "    .dataframe tbody tr th:only-of-type {\n",
       "        vertical-align: middle;\n",
       "    }\n",
       "\n",
       "    .dataframe tbody tr th {\n",
       "        vertical-align: top;\n",
       "    }\n",
       "\n",
       "    .dataframe thead th {\n",
       "        text-align: right;\n",
       "    }\n",
       "</style>\n",
       "<table border=\"1\" class=\"dataframe\">\n",
       "  <thead>\n",
       "    <tr style=\"text-align: right;\">\n",
       "      <th></th>\n",
       "      <th>title</th>\n",
       "      <th>price</th>\n",
       "      <th>ratings</th>\n",
       "      <th>JPEG URL</th>\n",
       "    </tr>\n",
       "  </thead>\n",
       "  <tbody>\n",
       "    <tr>\n",
       "      <th>0</th>\n",
       "      <td>A Light in the Attic</td>\n",
       "      <td>51.77</td>\n",
       "      <td>Three</td>\n",
       "      <td>media/cache/2c/da/2cdad67c44b002e7ead0cc35693c...</td>\n",
       "    </tr>\n",
       "    <tr>\n",
       "      <th>1</th>\n",
       "      <td>Tipping the Velvet</td>\n",
       "      <td>53.74</td>\n",
       "      <td>One</td>\n",
       "      <td>media/cache/26/0c/260c6ae16bce31c8f8c95daddd9f...</td>\n",
       "    </tr>\n",
       "    <tr>\n",
       "      <th>2</th>\n",
       "      <td>Soumission</td>\n",
       "      <td>50.10</td>\n",
       "      <td>One</td>\n",
       "      <td>media/cache/3e/ef/3eef99c9d9adef34639f51066202...</td>\n",
       "    </tr>\n",
       "    <tr>\n",
       "      <th>3</th>\n",
       "      <td>Sharp Objects</td>\n",
       "      <td>47.82</td>\n",
       "      <td>Four</td>\n",
       "      <td>media/cache/32/51/3251cf3a3412f53f339e42cac213...</td>\n",
       "    </tr>\n",
       "    <tr>\n",
       "      <th>4</th>\n",
       "      <td>Sapiens: A Brief History of Humankind</td>\n",
       "      <td>54.23</td>\n",
       "      <td>Five</td>\n",
       "      <td>media/cache/be/a5/bea5697f2534a2f86a3ef27b5a8c...</td>\n",
       "    </tr>\n",
       "    <tr>\n",
       "      <th>5</th>\n",
       "      <td>The Requiem Red</td>\n",
       "      <td>22.65</td>\n",
       "      <td>One</td>\n",
       "      <td>media/cache/68/33/68339b4c9bc034267e1da611ab3b...</td>\n",
       "    </tr>\n",
       "    <tr>\n",
       "      <th>6</th>\n",
       "      <td>The Dirty Little Secrets of Getting Your Dream...</td>\n",
       "      <td>33.34</td>\n",
       "      <td>Four</td>\n",
       "      <td>media/cache/92/27/92274a95b7c251fea59a2b8a7827...</td>\n",
       "    </tr>\n",
       "    <tr>\n",
       "      <th>7</th>\n",
       "      <td>The Coming Woman: A Novel Based on the Life of...</td>\n",
       "      <td>17.93</td>\n",
       "      <td>Three</td>\n",
       "      <td>media/cache/3d/54/3d54940e57e662c4dd1f3ff00c78...</td>\n",
       "    </tr>\n",
       "    <tr>\n",
       "      <th>8</th>\n",
       "      <td>The Boys in the Boat: Nine Americans and Their...</td>\n",
       "      <td>22.60</td>\n",
       "      <td>Four</td>\n",
       "      <td>media/cache/66/88/66883b91f6804b2323c8369331cb...</td>\n",
       "    </tr>\n",
       "    <tr>\n",
       "      <th>9</th>\n",
       "      <td>The Black Maria</td>\n",
       "      <td>52.15</td>\n",
       "      <td>One</td>\n",
       "      <td>media/cache/58/46/5846057e28022268153beff6d352...</td>\n",
       "    </tr>\n",
       "    <tr>\n",
       "      <th>10</th>\n",
       "      <td>Starving Hearts (Triangular Trade Trilogy, #1)</td>\n",
       "      <td>13.99</td>\n",
       "      <td>Two</td>\n",
       "      <td>media/cache/be/f4/bef44da28c98f905a3ebec0b87be...</td>\n",
       "    </tr>\n",
       "    <tr>\n",
       "      <th>11</th>\n",
       "      <td>Shakespeare's Sonnets</td>\n",
       "      <td>20.66</td>\n",
       "      <td>Four</td>\n",
       "      <td>media/cache/10/48/1048f63d3b5061cd2f424d20b3f9...</td>\n",
       "    </tr>\n",
       "    <tr>\n",
       "      <th>12</th>\n",
       "      <td>Set Me Free</td>\n",
       "      <td>17.46</td>\n",
       "      <td>Five</td>\n",
       "      <td>media/cache/5b/88/5b88c52633f53cacf162c15f4f82...</td>\n",
       "    </tr>\n",
       "    <tr>\n",
       "      <th>13</th>\n",
       "      <td>Scott Pilgrim's Precious Little Life (Scott Pi...</td>\n",
       "      <td>52.29</td>\n",
       "      <td>Five</td>\n",
       "      <td>media/cache/94/b1/94b1b8b244bce9677c2f29ccc890...</td>\n",
       "    </tr>\n",
       "    <tr>\n",
       "      <th>14</th>\n",
       "      <td>Rip it Up and Start Again</td>\n",
       "      <td>35.02</td>\n",
       "      <td>Five</td>\n",
       "      <td>media/cache/81/c4/81c4a973364e17d01f217e118825...</td>\n",
       "    </tr>\n",
       "    <tr>\n",
       "      <th>15</th>\n",
       "      <td>Our Band Could Be Your Life: Scenes from the A...</td>\n",
       "      <td>57.25</td>\n",
       "      <td>Three</td>\n",
       "      <td>media/cache/54/60/54607fe8945897cdcced0044103b...</td>\n",
       "    </tr>\n",
       "    <tr>\n",
       "      <th>16</th>\n",
       "      <td>Olio</td>\n",
       "      <td>23.88</td>\n",
       "      <td>One</td>\n",
       "      <td>media/cache/55/33/553310a7162dfbc2c6d19a84da0d...</td>\n",
       "    </tr>\n",
       "    <tr>\n",
       "      <th>17</th>\n",
       "      <td>Mesaerion: The Best Science Fiction Stories 18...</td>\n",
       "      <td>37.59</td>\n",
       "      <td>One</td>\n",
       "      <td>media/cache/09/a3/09a3aef48557576e1a85ba7efea8...</td>\n",
       "    </tr>\n",
       "    <tr>\n",
       "      <th>18</th>\n",
       "      <td>Libertarianism for Beginners</td>\n",
       "      <td>51.33</td>\n",
       "      <td>Two</td>\n",
       "      <td>media/cache/0b/bc/0bbcd0a6f4bcd81ccb1049a52736...</td>\n",
       "    </tr>\n",
       "    <tr>\n",
       "      <th>19</th>\n",
       "      <td>It's Only the Himalayas</td>\n",
       "      <td>45.17</td>\n",
       "      <td>Two</td>\n",
       "      <td>media/cache/27/a5/27a53d0bb95bdd88288eaf66c923...</td>\n",
       "    </tr>\n",
       "  </tbody>\n",
       "</table>\n",
       "</div>"
      ],
      "text/plain": [
       "                                                title  price ratings  \\\n",
       "0                                A Light in the Attic  51.77   Three   \n",
       "1                                  Tipping the Velvet  53.74     One   \n",
       "2                                          Soumission  50.10     One   \n",
       "3                                       Sharp Objects  47.82    Four   \n",
       "4               Sapiens: A Brief History of Humankind  54.23    Five   \n",
       "5                                     The Requiem Red  22.65     One   \n",
       "6   The Dirty Little Secrets of Getting Your Dream...  33.34    Four   \n",
       "7   The Coming Woman: A Novel Based on the Life of...  17.93   Three   \n",
       "8   The Boys in the Boat: Nine Americans and Their...  22.60    Four   \n",
       "9                                     The Black Maria  52.15     One   \n",
       "10     Starving Hearts (Triangular Trade Trilogy, #1)  13.99     Two   \n",
       "11                              Shakespeare's Sonnets  20.66    Four   \n",
       "12                                        Set Me Free  17.46    Five   \n",
       "13  Scott Pilgrim's Precious Little Life (Scott Pi...  52.29    Five   \n",
       "14                          Rip it Up and Start Again  35.02    Five   \n",
       "15  Our Band Could Be Your Life: Scenes from the A...  57.25   Three   \n",
       "16                                               Olio  23.88     One   \n",
       "17  Mesaerion: The Best Science Fiction Stories 18...  37.59     One   \n",
       "18                       Libertarianism for Beginners  51.33     Two   \n",
       "19                            It's Only the Himalayas  45.17     Two   \n",
       "\n",
       "                                             JPEG URL  \n",
       "0   media/cache/2c/da/2cdad67c44b002e7ead0cc35693c...  \n",
       "1   media/cache/26/0c/260c6ae16bce31c8f8c95daddd9f...  \n",
       "2   media/cache/3e/ef/3eef99c9d9adef34639f51066202...  \n",
       "3   media/cache/32/51/3251cf3a3412f53f339e42cac213...  \n",
       "4   media/cache/be/a5/bea5697f2534a2f86a3ef27b5a8c...  \n",
       "5   media/cache/68/33/68339b4c9bc034267e1da611ab3b...  \n",
       "6   media/cache/92/27/92274a95b7c251fea59a2b8a7827...  \n",
       "7   media/cache/3d/54/3d54940e57e662c4dd1f3ff00c78...  \n",
       "8   media/cache/66/88/66883b91f6804b2323c8369331cb...  \n",
       "9   media/cache/58/46/5846057e28022268153beff6d352...  \n",
       "10  media/cache/be/f4/bef44da28c98f905a3ebec0b87be...  \n",
       "11  media/cache/10/48/1048f63d3b5061cd2f424d20b3f9...  \n",
       "12  media/cache/5b/88/5b88c52633f53cacf162c15f4f82...  \n",
       "13  media/cache/94/b1/94b1b8b244bce9677c2f29ccc890...  \n",
       "14  media/cache/81/c4/81c4a973364e17d01f217e118825...  \n",
       "15  media/cache/54/60/54607fe8945897cdcced0044103b...  \n",
       "16  media/cache/55/33/553310a7162dfbc2c6d19a84da0d...  \n",
       "17  media/cache/09/a3/09a3aef48557576e1a85ba7efea8...  \n",
       "18  media/cache/0b/bc/0bbcd0a6f4bcd81ccb1049a52736...  \n",
       "19  media/cache/27/a5/27a53d0bb95bdd88288eaf66c923...  "
      ]
     },
     "execution_count": 106,
     "metadata": {},
     "output_type": "execute_result"
    }
   ],
   "source": [
    "scraplyfe(url)"
   ]
  },
  {
   "cell_type": "markdown",
   "id": "69fef373-03eb-4204-ae25-4e796c7c4d78",
   "metadata": {},
   "source": [
    "### Problem 8"
   ]
  },
  {
   "cell_type": "code",
   "execution_count": 130,
   "id": "c3846017-9b16-4fa5-9cb9-19817683a760",
   "metadata": {},
   "outputs": [
    {
     "data": {
      "text/html": [
       "<div>\n",
       "<style scoped>\n",
       "    .dataframe tbody tr th:only-of-type {\n",
       "        vertical-align: middle;\n",
       "    }\n",
       "\n",
       "    .dataframe tbody tr th {\n",
       "        vertical-align: top;\n",
       "    }\n",
       "\n",
       "    .dataframe thead th {\n",
       "        text-align: right;\n",
       "    }\n",
       "</style>\n",
       "<table border=\"1\" class=\"dataframe\">\n",
       "  <thead>\n",
       "    <tr style=\"text-align: right;\">\n",
       "      <th></th>\n",
       "      <th>title</th>\n",
       "      <th>price</th>\n",
       "      <th>ratings</th>\n",
       "      <th>JPEG URL</th>\n",
       "    </tr>\n",
       "  </thead>\n",
       "  <tbody>\n",
       "    <tr>\n",
       "      <th>0</th>\n",
       "      <td>A Light in the Attic</td>\n",
       "      <td>51.77</td>\n",
       "      <td>Three</td>\n",
       "      <td>../media/cache/2c/da/2cdad67c44b002e7ead0cc356...</td>\n",
       "    </tr>\n",
       "    <tr>\n",
       "      <th>1</th>\n",
       "      <td>Tipping the Velvet</td>\n",
       "      <td>53.74</td>\n",
       "      <td>One</td>\n",
       "      <td>../media/cache/26/0c/260c6ae16bce31c8f8c95dadd...</td>\n",
       "    </tr>\n",
       "    <tr>\n",
       "      <th>2</th>\n",
       "      <td>Soumission</td>\n",
       "      <td>50.10</td>\n",
       "      <td>One</td>\n",
       "      <td>../media/cache/3e/ef/3eef99c9d9adef34639f51066...</td>\n",
       "    </tr>\n",
       "    <tr>\n",
       "      <th>3</th>\n",
       "      <td>Sharp Objects</td>\n",
       "      <td>47.82</td>\n",
       "      <td>Four</td>\n",
       "      <td>../media/cache/32/51/3251cf3a3412f53f339e42cac...</td>\n",
       "    </tr>\n",
       "    <tr>\n",
       "      <th>4</th>\n",
       "      <td>Sapiens: A Brief History of Humankind</td>\n",
       "      <td>54.23</td>\n",
       "      <td>Five</td>\n",
       "      <td>../media/cache/be/a5/bea5697f2534a2f86a3ef27b5...</td>\n",
       "    </tr>\n",
       "    <tr>\n",
       "      <th>...</th>\n",
       "      <td>...</td>\n",
       "      <td>...</td>\n",
       "      <td>...</td>\n",
       "      <td>...</td>\n",
       "    </tr>\n",
       "    <tr>\n",
       "      <th>15</th>\n",
       "      <td>Alice in Wonderland (Alice's Adventures in Won...</td>\n",
       "      <td>55.53</td>\n",
       "      <td>One</td>\n",
       "      <td>../media/cache/96/ee/96ee77d71a31b7694dac6855f...</td>\n",
       "    </tr>\n",
       "    <tr>\n",
       "      <th>16</th>\n",
       "      <td>Ajin: Demi-Human, Volume 1 (Ajin: Demi-Human #1)</td>\n",
       "      <td>57.06</td>\n",
       "      <td>Four</td>\n",
       "      <td>../media/cache/09/7c/097cb5ecc6fb3fbe1690cf0cb...</td>\n",
       "    </tr>\n",
       "    <tr>\n",
       "      <th>17</th>\n",
       "      <td>A Spy's Devotion (The Regency Spies of London #1)</td>\n",
       "      <td>16.97</td>\n",
       "      <td>Five</td>\n",
       "      <td>../media/cache/1b/5f/1b5ff86f3c75e51e24c573d3f...</td>\n",
       "    </tr>\n",
       "    <tr>\n",
       "      <th>18</th>\n",
       "      <td>1st to Die (Women's Murder Club #1)</td>\n",
       "      <td>53.98</td>\n",
       "      <td>One</td>\n",
       "      <td>../media/cache/2b/41/2b4161c5b72a4ae386b644682...</td>\n",
       "    </tr>\n",
       "    <tr>\n",
       "      <th>19</th>\n",
       "      <td>1,000 Places to See Before You Die</td>\n",
       "      <td>26.08</td>\n",
       "      <td>Five</td>\n",
       "      <td>../media/cache/d7/0f/d70f7edd92705c45a82118c3f...</td>\n",
       "    </tr>\n",
       "  </tbody>\n",
       "</table>\n",
       "<p>1000 rows × 4 columns</p>\n",
       "</div>"
      ],
      "text/plain": [
       "                                                title  price ratings  \\\n",
       "0                                A Light in the Attic  51.77   Three   \n",
       "1                                  Tipping the Velvet  53.74     One   \n",
       "2                                          Soumission  50.10     One   \n",
       "3                                       Sharp Objects  47.82    Four   \n",
       "4               Sapiens: A Brief History of Humankind  54.23    Five   \n",
       "..                                                ...    ...     ...   \n",
       "15  Alice in Wonderland (Alice's Adventures in Won...  55.53     One   \n",
       "16   Ajin: Demi-Human, Volume 1 (Ajin: Demi-Human #1)  57.06    Four   \n",
       "17  A Spy's Devotion (The Regency Spies of London #1)  16.97    Five   \n",
       "18                1st to Die (Women's Murder Club #1)  53.98     One   \n",
       "19                 1,000 Places to See Before You Die  26.08    Five   \n",
       "\n",
       "                                             JPEG URL  \n",
       "0   ../media/cache/2c/da/2cdad67c44b002e7ead0cc356...  \n",
       "1   ../media/cache/26/0c/260c6ae16bce31c8f8c95dadd...  \n",
       "2   ../media/cache/3e/ef/3eef99c9d9adef34639f51066...  \n",
       "3   ../media/cache/32/51/3251cf3a3412f53f339e42cac...  \n",
       "4   ../media/cache/be/a5/bea5697f2534a2f86a3ef27b5...  \n",
       "..                                                ...  \n",
       "15  ../media/cache/96/ee/96ee77d71a31b7694dac6855f...  \n",
       "16  ../media/cache/09/7c/097cb5ecc6fb3fbe1690cf0cb...  \n",
       "17  ../media/cache/1b/5f/1b5ff86f3c75e51e24c573d3f...  \n",
       "18  ../media/cache/2b/41/2b4161c5b72a4ae386b644682...  \n",
       "19  ../media/cache/d7/0f/d70f7edd92705c45a82118c3f...  \n",
       "\n",
       "[1000 rows x 4 columns]"
      ]
     },
     "execution_count": 130,
     "metadata": {},
     "output_type": "execute_result"
    }
   ],
   "source": [
    "#By seperating out the url into 3 pieces, I was then able to write a for loop, since the item I am now iterating is a number(integer) \n",
    "#Because the function is then called in the for loop, it is then iterated on in much less code than to build it, compressing the process \n",
    "\n",
    "new_df = pd.DataFrame()\n",
    "\n",
    "for i in range(1,51):\n",
    "    url = 'http://books.toscrape.com/catalogue/page-' + str(i) + '.html'\n",
    "    one_df = scraplyfe(url)\n",
    "    new_df = pd.concat([new_df,one_df])\n",
    "\n",
    "new_df"
   ]
  },
  {
   "cell_type": "code",
   "execution_count": null,
   "id": "c7a28888-2f8b-4532-9200-0480a35fd2b2",
   "metadata": {},
   "outputs": [],
   "source": []
  }
 ],
 "metadata": {
  "kernelspec": {
   "display_name": "Python 3 (ipykernel)",
   "language": "python",
   "name": "python3"
  },
  "language_info": {
   "codemirror_mode": {
    "name": "ipython",
    "version": 3
   },
   "file_extension": ".py",
   "mimetype": "text/x-python",
   "name": "python",
   "nbconvert_exporter": "python",
   "pygments_lexer": "ipython3",
   "version": "3.9.12"
  }
 },
 "nbformat": 4,
 "nbformat_minor": 5
}
