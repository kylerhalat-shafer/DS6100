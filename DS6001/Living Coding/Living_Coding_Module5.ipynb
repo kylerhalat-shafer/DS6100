{
 "cells": [
  {
   "cell_type": "markdown",
   "id": "d84223d4-a049-48ba-9db4-e4440f9af77d",
   "metadata": {},
   "source": [
    "# Web scraping"
   ]
  },
  {
   "cell_type": "code",
   "execution_count": 1,
   "id": "6a2b83db-7afa-4765-8907-c9f10511fea6",
   "metadata": {},
   "outputs": [],
   "source": [
    "import numpy as np\n",
    "import pandas as pd\n",
    "import requests\n",
    "from bs4 import BeautifulSoup"
   ]
  },
  {
   "cell_type": "code",
   "execution_count": 2,
   "id": "b999a68d-d24c-47fe-a329-9c8f8c08b81d",
   "metadata": {},
   "outputs": [],
   "source": [
    "# use /robots.txt to understand what a website allows and does not allow"
   ]
  },
  {
   "cell_type": "code",
   "execution_count": 3,
   "id": "b3a64da6-a2dd-4bfe-a742-2da46daf9672",
   "metadata": {},
   "outputs": [],
   "source": [
    "url = 'https://waset.org/anaesthesiology-conference-in-july-2022-in-paris'"
   ]
  },
  {
   "cell_type": "code",
   "execution_count": 4,
   "id": "d0e3927b-e5a2-4e24-a0a9-c07e9af0f49c",
   "metadata": {},
   "outputs": [],
   "source": [
    "useragent = 'Mozilla/5.0 (Macintosh; Intel Mac OS X 10_15_7) AppleWebKit/537.36 (KHTML, like Gecko) Chrome/102.0.0.0 Safari/537.36'"
   ]
  },
  {
   "cell_type": "code",
   "execution_count": 5,
   "id": "9dc8f817-f125-46af-875a-a336d7edaa68",
   "metadata": {},
   "outputs": [
    {
     "data": {
      "text/plain": [
       "<Response [200]>"
      ]
     },
     "execution_count": 5,
     "metadata": {},
     "output_type": "execute_result"
    }
   ],
   "source": [
    "# We're pointing to a free standing webpage, therefore it will give us an HTML file instead of with APIs that give you json\n",
    "r = requests.get(url, headers = {'User-agent' :useragent})\n",
    "r"
   ]
  },
  {
   "cell_type": "code",
   "execution_count": 6,
   "id": "a7a97211-8621-4cc6-b087-23d592afcb4e",
   "metadata": {},
   "outputs": [],
   "source": [
    "# second argument of BeautifulSoup tells you have to parse it\n",
    "soup = BeautifulSoup(r.text,\"html.parser\")"
   ]
  },
  {
   "cell_type": "code",
   "execution_count": 7,
   "id": "60c6acd5-eb51-40f6-8534-e4ccc4146b18",
   "metadata": {},
   "outputs": [],
   "source": [
    "#Calling all of soup will have a long HTML \n",
    "#soup\n",
    "# When looking at this, how do we know if this data is useable or not useable? \n",
    "# Go to the page you want to scrap, right click and view page source, this brings you to the page in html and you can control F"
   ]
  },
  {
   "cell_type": "code",
   "execution_count": 8,
   "id": "94484408-6a37-4831-ae5a-32f639cf35a6",
   "metadata": {},
   "outputs": [
    {
     "data": {
      "text/plain": [
       "[<title>International Conference on Anaesthesiology ICA in July 2022 in Paris</title>]"
      ]
     },
     "execution_count": 8,
     "metadata": {},
     "output_type": "execute_result"
    }
   ],
   "source": [
    "#Find_all allows you to search for particular tags\n",
    "soup.find_all('title')\n",
    "#this returns a list, therefore you can pull it out of a list"
   ]
  },
  {
   "cell_type": "code",
   "execution_count": 9,
   "id": "156885cf-1874-4872-b772-58f1b72eb545",
   "metadata": {},
   "outputs": [
    {
     "data": {
      "text/plain": [
       "<title>International Conference on Anaesthesiology ICA in July 2022 in Paris</title>"
      ]
     },
     "execution_count": 9,
     "metadata": {},
     "output_type": "execute_result"
    }
   ],
   "source": [
    "#You're taking the first item out of the list, since there's only 1 item in the list it is 0\n",
    "soup.find_all('title')[0]"
   ]
  },
  {
   "cell_type": "code",
   "execution_count": 10,
   "id": "8ea50286-34dc-4fce-a15c-7289ae2429a0",
   "metadata": {},
   "outputs": [],
   "source": [
    "title = soup.find_all('title')[0].string"
   ]
  },
  {
   "cell_type": "code",
   "execution_count": 11,
   "id": "eb5f305e-1d8f-4ab4-8382-7e12753a3468",
   "metadata": {},
   "outputs": [
    {
     "data": {
      "text/plain": [
       "[<td>Abstracts/Full-Text Paper Submission Deadline</td>,\n",
       " <td> </td>,\n",
       " <td class=\"textright\">June 15, 2022</td>,\n",
       " <td>Notification of Acceptance/Rejection</td>,\n",
       " <td> </td>,\n",
       " <td class=\"textright\">June 30, 2022</td>,\n",
       " <td>Final Paper (Camera Ready) Submission &amp; Early Bird Registration Deadline</td>,\n",
       " <td> </td>,\n",
       " <td class=\"textright\">June 19, 2022</td>,\n",
       " <td>Conference Dates</td>,\n",
       " <td> </td>,\n",
       " <td class=\"textright\">July 19-20, 2022</td>,\n",
       " <td>Non-Student Oral/Poster Presenter Registration</td>,\n",
       " <td class=\"earlyBird0\">€ 450</td>,\n",
       " <td class=\"earlyBird1\">€ 500</td>,\n",
       " <td>Student Oral/Poster Presenter Registration</td>,\n",
       " <td class=\"earlyBird0\">€ 350</td>,\n",
       " <td class=\"earlyBird1\">€ 400</td>,\n",
       " <td>Listener Registration</td>,\n",
       " <td class=\"earlyBird0\">€ 250</td>,\n",
       " <td class=\"earlyBird1\">€ 300</td>,\n",
       " <td>Additional Paper Publication</td>,\n",
       " <td colspan=\"2\">€ 100</td>]"
      ]
     },
     "execution_count": 11,
     "metadata": {},
     "output_type": "execute_result"
    }
   ],
   "source": [
    "# Begin here after finding the price in the HTML file\n",
    "soup.find_all('td')"
   ]
  },
  {
   "cell_type": "code",
   "execution_count": 12,
   "id": "07efbea3-c073-4675-a83f-04a0c3c50947",
   "metadata": {},
   "outputs": [
    {
     "data": {
      "text/plain": [
       "[<td class=\"earlyBird1\">€ 500</td>,\n",
       " <td class=\"earlyBird1\">€ 400</td>,\n",
       " <td class=\"earlyBird1\">€ 300</td>]"
      ]
     },
     "execution_count": 12,
     "metadata": {},
     "output_type": "execute_result"
    }
   ],
   "source": [
    "#You can then specfic where inside of td by providing a second argument\n",
    "soup.find_all('td','earlyBird1')"
   ]
  },
  {
   "cell_type": "code",
   "execution_count": 13,
   "id": "2b20344a-4ada-49d3-8543-689a04d1483e",
   "metadata": {},
   "outputs": [],
   "source": [
    "# this is making a string of just the one price\n",
    "cost = soup.find_all('td','earlyBird1')[0].string"
   ]
  },
  {
   "cell_type": "code",
   "execution_count": 14,
   "id": "3ce36fca-bc07-42f5-bebb-5e47fe5f7594",
   "metadata": {},
   "outputs": [
    {
     "data": {
      "text/plain": [
       "'July 19-20, 2022'"
      ]
     },
     "execution_count": 14,
     "metadata": {},
     "output_type": "execute_result"
    }
   ],
   "source": [
    "# Looked for the 'Conference Dates' and then looked for the find next function, which goes to the elements after that\n",
    "conference_date = soup.find_all('td', text = 'Conference Dates')[0].find_next().find_next().string\n",
    "conference_date"
   ]
  },
  {
   "cell_type": "code",
   "execution_count": 15,
   "id": "00561b2b-7179-4b36-bb28-625049447a7b",
   "metadata": {},
   "outputs": [
    {
     "data": {
      "text/plain": [
       "<Response [200]>"
      ]
     },
     "execution_count": 15,
     "metadata": {},
     "output_type": "execute_result"
    }
   ],
   "source": [
    "# to get a program, it was a different url, therefore we needed to pull from a different url\n",
    "url2 = 'https://waset.org/conferences-in-july-2022-in-paris/program'\n",
    "r2 = requests.get(url2, headers = {'User-agent' :useragent})\n",
    "r2"
   ]
  },
  {
   "cell_type": "code",
   "execution_count": 16,
   "id": "8a24083e-ac04-4996-882f-094f64a24878",
   "metadata": {},
   "outputs": [
    {
     "data": {
      "text/plain": [
       "[]"
      ]
     },
     "execution_count": 16,
     "metadata": {},
     "output_type": "execute_result"
    }
   ],
   "source": [
    "program = soup.find_all('div', 'col-6')\n",
    "program"
   ]
  },
  {
   "cell_type": "markdown",
   "id": "cea2fea1-da33-4835-aaaa-cfd5e7208af8",
   "metadata": {},
   "source": [
    "### Building a spider"
   ]
  },
  {
   "cell_type": "code",
   "execution_count": 30,
   "id": "44c4eb59-0f7c-4ef0-97f5-1b69beaa446f",
   "metadata": {},
   "outputs": [],
   "source": [
    "def scrape1(url):\n",
    "    r = requests.get(url, headers = {'User-agent' :useragent})\n",
    "    \n",
    "    soup = BeautifulSoup(r.text,\"html.parser\")\n",
    "    \n",
    "    title = soup.find_all('title')[0].string\n",
    "    cost = soup.find_all('td','earlyBird1')[0].string\n",
    "    conference_date = soup.find_all('td', text = 'Conference Dates')[0].find_next().find_next().string\n",
    "    \n",
    "    mydict = {'title':[title],\n",
    "              'cost': [cost],\n",
    "              'conference_date':[conference_date]}\n",
    "    \n",
    "    mydf = pd.DataFrame(mydict)\n",
    "    return mydf"
   ]
  },
  {
   "cell_type": "code",
   "execution_count": 19,
   "id": "34d62c98-f209-486b-9132-f2cfba697fee",
   "metadata": {},
   "outputs": [],
   "source": [
    "#scrape1('https://waset.org/anaesthesiology-conference-in-july-2022-in-paris')"
   ]
  },
  {
   "cell_type": "code",
   "execution_count": 35,
   "id": "624c9b02-24dc-4175-96a7-7ffcd8a91ab6",
   "metadata": {},
   "outputs": [
    {
     "data": {
      "text/html": [
       "<div>\n",
       "<style scoped>\n",
       "    .dataframe tbody tr th:only-of-type {\n",
       "        vertical-align: middle;\n",
       "    }\n",
       "\n",
       "    .dataframe tbody tr th {\n",
       "        vertical-align: top;\n",
       "    }\n",
       "\n",
       "    .dataframe thead th {\n",
       "        text-align: right;\n",
       "    }\n",
       "</style>\n",
       "<table border=\"1\" class=\"dataframe\">\n",
       "  <thead>\n",
       "    <tr style=\"text-align: right;\">\n",
       "      <th></th>\n",
       "      <th>title</th>\n",
       "      <th>cost</th>\n",
       "      <th>conference_date</th>\n",
       "    </tr>\n",
       "  </thead>\n",
       "  <tbody>\n",
       "    <tr>\n",
       "      <th>0</th>\n",
       "      <td>International Conference on Advanced Dynamic C...</td>\n",
       "      <td>€ 500</td>\n",
       "      <td>July 19-20, 2022</td>\n",
       "    </tr>\n",
       "  </tbody>\n",
       "</table>\n",
       "</div>"
      ],
      "text/plain": [
       "                                               title   cost   conference_date\n",
       "0  International Conference on Advanced Dynamic C...  € 500  July 19-20, 2022"
      ]
     },
     "execution_count": 35,
     "metadata": {},
     "output_type": "execute_result"
    }
   ],
   "source": [
    "url = 'https://waset.org/conferences-in-july-2022-in-paris'\n",
    "r = requests.get(url, headers = {'User-agent': useragent})\n",
    "soup = BeautifulSoup(r.text, 'html.parser')\n",
    "urls = [x['href'] for x in soup.find_all('a', href=True, title=True)[5:]]\n",
    "scrape1(urls[50])"
   ]
  },
  {
   "cell_type": "code",
   "execution_count": 33,
   "id": "0f9bd9d4-6c3c-4e71-bc31-974d85c79e57",
   "metadata": {},
   "outputs": [
    {
     "data": {
      "text/plain": [
       "'https://waset.org/conferences-in-july-2022-in-paris'"
      ]
     },
     "execution_count": 33,
     "metadata": {},
     "output_type": "execute_result"
    }
   ],
   "source": [
    "url"
   ]
  },
  {
   "cell_type": "code",
   "execution_count": 23,
   "id": "ba2306e3-a34b-483e-9b3a-338357628e53",
   "metadata": {},
   "outputs": [
    {
     "data": {
      "text/plain": [
       "['https://waset.org/conferences',\n",
       " 'https://waset.org/disciplines',\n",
       " 'https://waset.org/page/support',\n",
       " 'https://waset.org/conferences',\n",
       " 'https://waset.org/conferences-in-2022',\n",
       " 'https://waset.org/conferences-in-july-2022-in-paris',\n",
       " 'https://waset.org/anaesthesiology-conference',\n",
       " 'https://waset.org/profile/submissions/papers/create/1842/8729',\n",
       " 'https://waset.org/profile/registrations/author/create/1842/8729',\n",
       " 'https://waset.org/profile/registrations/listener/create/1842/8729',\n",
       " 'https://waset.org/conferences-in-july-2022-in-paris/program',\n",
       " 'https://waset.org/anaesthesiology-conference-in-november-2022-in-san-francisco',\n",
       " 'https://waset.org/anaesthesiology-conference-in-june-2023-in-san-francisco',\n",
       " 'https://waset.org/anaesthesiology-conference-in-july-2023-in-paris',\n",
       " 'https://waset.org/anaesthesiology-conference-in-november-2023-in-san-francisco',\n",
       " 'https://waset.org/anaesthesiology-conference-in-june-2024-in-san-francisco',\n",
       " 'https://waset.org/anaesthesiology-conference-in-july-2024-in-paris',\n",
       " 'https://waset.org/anaesthesiology-conference-in-november-2024-in-san-francisco']"
      ]
     },
     "execution_count": 24,
     "metadata": {},
     "output_type": "execute_result"
    }
   ],
   "source": [
    "# Using a list comprehension to find all of the links inside of the webpage\n",
    "urls = [x['href'] for x in soup.find_all('a', href=True, title=True)][5:]\n",
    "urls"
   ]
  },
  {
   "cell_type": "code",
   "execution_count": 36,
   "id": "d0204fdb-4617-4b63-a33d-7381df0fb254",
   "metadata": {},
   "outputs": [
    {
     "name": "stdout",
     "output_type": "stream",
     "text": [
      "https://waset.org/anaesthesiology-conference-in-july-2022-in-paris\n",
      "https://waset.org/allergy-and-asthma-conference-in-july-2022-in-paris\n",
      "https://waset.org/applied-aerodynamics-and-aeronautics-conference-in-july-2022-in-paris\n",
      "https://waset.org/antihypertensive-agents-and-diuretics-conference-in-july-2022-in-paris\n",
      "https://waset.org/aquatic-animals-diseases-and-resources-conference-in-july-2022-in-paris\n",
      "https://waset.org/aquatic-animal-health-and-diseases-conference-in-july-2022-in-paris\n",
      "https://waset.org/allergy-asthma-immunology-and-rheumatology-conference-in-july-2022-in-paris\n",
      "https://waset.org/advanced-aerogel-materials-conference-in-july-2022-in-paris\n",
      "https://waset.org/advanced-biofuels-conference-in-july-2022-in-paris\n",
      "https://waset.org/agent-based-applications-for-air-transportation-conference-in-july-2022-in-paris\n",
      "https://waset.org/applications-of-biorobotics-and-biomechatronics-conference-in-july-2022-in-paris\n",
      "https://waset.org/agricultural-biotechnology-biological-and-biosystems-engineering-conference-in-july-2022-in-paris\n",
      "https://waset.org/agro-biotechnology-biosafety-and-seed-systems-conference-in-july-2022-in-paris\n",
      "https://waset.org/advanced-bridge-design-and-construction-conference-in-july-2022-in-paris\n",
      "https://waset.org/advances-in-business-economics-conference-in-july-2022-in-paris\n",
      "https://waset.org/agricultural-biotechnology-food-beverage-and-nutritional-sciences-conference-in-july-2022-in-paris\n",
      "https://waset.org/agent-based-modelling-conference-in-july-2022-in-paris\n",
      "https://waset.org/agricultural-buildings-and-plant-protection-technologies-conference-in-july-2022-in-paris\n",
      "https://waset.org/advances-in-biomimetic-robotics-conference-in-july-2022-in-paris\n",
      "https://waset.org/animal-bioscience-and-technology-conference-in-july-2022-in-paris\n",
      "https://waset.org/aviation-composites-conference-in-july-2022-in-paris\n",
      "https://waset.org/architecture-criticism-and-architectural-theory-conference-in-july-2022-in-paris\n",
      "https://waset.org/animal-care-and-behavior-conference-in-july-2022-in-paris\n",
      "https://waset.org/autonomous-cruise-control-and-assisting-systems-conference-in-july-2022-in-paris\n",
      "https://waset.org/applied-chemistry-and-chemical-engineering-conference-in-july-2022-in-paris\n",
      "https://waset.org/advanced-cosmetic-dentistry-and-teeth-whitening-conference-in-july-2022-in-paris\n",
      "https://waset.org/applications-of-clinical-engineering-conference-in-july-2022-in-paris\n",
      "https://waset.org/advanced-cell-engineering-and-life-sciences-conference-in-july-2022-in-paris\n",
      "https://waset.org/advances-in-computer-engineering-and-technology-conference-in-july-2022-in-paris\n",
      "https://waset.org/advanced-cellular-immunology-and-immunotherapy-methods-conference-in-july-2022-in-paris\n",
      "https://waset.org/analog-communication-and-information-methods-conference-in-july-2022-in-paris\n",
      "https://waset.org/analog-communication-information-methods-and-components-conference-in-july-2022-in-paris\n",
      "https://waset.org/analog-communication-information-methods-and-techniques-conference-in-july-2022-in-paris\n",
      "https://waset.org/analog-communication-and-information-technology-conference-in-july-2022-in-paris\n",
      "https://waset.org/analog-communication-information-technology-and-methods-conference-in-july-2022-in-paris\n",
      "https://waset.org/analog-communication-information-technology-methods-and-components-conference-in-july-2022-in-paris\n",
      "https://waset.org/analog-communication-information-technology-methods-and-techniques-conference-in-july-2022-in-paris\n",
      "https://waset.org/analog-communication-information-technology-and-techniques-conference-in-july-2022-in-paris\n",
      "https://waset.org/aviation-composites-maintenance-and-equipment-conference-in-july-2022-in-paris\n",
      "https://waset.org/ambulatory-care-in-nursing-conference-in-july-2022-in-paris\n",
      "https://waset.org/applications-of-cognitive-and-neural-engineering-conference-in-july-2022-in-paris\n",
      "https://waset.org/advances-in-collider-physics-conference-in-july-2022-in-paris\n",
      "https://waset.org/automotive-control-systems-conference-in-july-2022-in-paris\n",
      "https://waset.org/analog-communication-systems-and-technologies-conference-in-july-2022-in-paris\n",
      "https://waset.org/applied-ceramic-technology-conference-in-july-2022-in-paris\n",
      "https://waset.org/advanced-cellular-therapy-technologies-conference-in-july-2022-in-paris\n",
      "https://waset.org/anthroposociology-and-development-conference-in-july-2022-in-paris\n",
      "https://waset.org/airport-design-and-architecture-conference-in-july-2022-in-paris\n",
      "https://waset.org/animal-developmental-biology-conference-in-july-2022-in-paris\n",
      "https://waset.org/animal-developmental-biology-and-genetics-conference-in-july-2022-in-paris\n",
      "https://waset.org/advanced-dynamic-cell-tissue-culture-and-automation-conference-in-july-2022-in-paris\n",
      "https://waset.org/advanced-dynamic-cell-tissue-culture-and-bioreactors-conference-in-july-2022-in-paris\n",
      "https://waset.org/advanced-dynamic-cell-tissue-culture-and-bioreactor-design-conference-in-july-2022-in-paris\n",
      "https://waset.org/advanced-dynamic-cell-tissue-culture-and-3d-cell-culture-conference-in-july-2022-in-paris\n",
      "https://waset.org/advanced-dynamic-cell-tissue-culture-and-microfluidics-conference-in-july-2022-in-paris\n",
      "https://waset.org/advanced-dynamic-cell-tissue-culture-and-organ-on-a-chip-conference-in-july-2022-in-paris\n",
      "https://waset.org/advanced-dynamic-cell-tissue-culture-and-stem-cells-conference-in-july-2022-in-paris\n",
      "https://waset.org/advanced-dynamic-cell-tissue-culture-and-tissue-engineering-conference-in-july-2022-in-paris\n",
      "https://waset.org/analysis-and-design-of-digital-control-systems-conference-in-july-2022-in-paris\n",
      "https://waset.org/advanced-drug-delivery-nanosystems-conference-in-july-2022-in-paris\n",
      "https://waset.org/advanced-drug-delivery-systems-and-devices-conference-in-july-2022-in-paris\n",
      "https://waset.org/advanced-drug-delivery-systems-and-devices-and-biomedical-applications-conference-in-july-2022-in-paris\n",
      "https://waset.org/advanced-drug-delivery-systems-and-devices-and-cancer-conference-in-july-2022-in-paris\n",
      "https://waset.org/advanced-drug-delivery-systems-and-devices-and-chronic-diseases-conference-in-july-2022-in-paris\n",
      "https://waset.org/advanced-drug-delivery-systems-and-devices-and-hydrogels-conference-in-july-2022-in-paris\n",
      "https://waset.org/advanced-drug-delivery-systems-and-devices-and-microparticles-conference-in-july-2022-in-paris\n",
      "https://waset.org/advanced-drug-delivery-systems-and-devices-and-nanomedicine-conference-in-july-2022-in-paris\n",
      "https://waset.org/advanced-drug-delivery-systems-and-devices-and-polymer-drug-delivery-systems-conference-in-july-2022-in-paris\n",
      "https://waset.org/advanced-drug-delivery-systems-and-devices-and-pharmaceutical-formulations-conference-in-july-2022-in-paris\n",
      "https://waset.org/advanced-drug-delivery-systems-and-implantable-drug-delivery-devices-conference-in-july-2022-in-paris\n",
      "https://waset.org/advantages-and-disadvantages-of-environmentally-friendly-vehicles-conference-in-july-2022-in-paris\n",
      "https://waset.org/advantages-and-disadvantages-of-electric-vehicles-conference-in-july-2022-in-paris\n",
      "https://waset.org/advantages-and-disadvantages-of-green-vehicles-conference-in-july-2022-in-paris\n",
      "https://waset.org/analysis-and-design-of-long-span-structures-conference-in-july-2022-in-paris\n",
      "https://waset.org/advanced-design-and-manufacture-conference-in-july-2022-in-paris\n",
      "https://waset.org/advances-in-data-transmission-engineering-conference-in-july-2022-in-paris\n",
      "https://waset.org/applications-of-electromagnetics-conference-in-july-2022-in-paris\n",
      "https://waset.org/adaptation-and-evolutionary-biology-conference-in-july-2022-in-paris\n",
      "https://waset.org/architectural-engineering-drawing-and-design-conference-in-july-2022-in-paris\n",
      "https://waset.org/advanced-esthetic-dentistry-procedure-and-treatments-conference-in-july-2022-in-paris\n",
      "https://waset.org/advances-in-experimental-economics-conference-in-july-2022-in-paris\n",
      "https://waset.org/aerospace-engineering-and-engineering-mechanics-conference-in-july-2022-in-paris\n",
      "https://waset.org/agricultural-environment-and-farm-management-conference-in-july-2022-in-paris\n",
      "https://waset.org/aerospace-engineering-and-flight-vehicles-conference-in-july-2022-in-paris\n",
      "https://waset.org/advances-in-experimental-genetics-conference-in-july-2022-in-paris\n",
      "https://waset.org/applied-engineering-geology-and-geotechnics-conference-in-july-2022-in-paris\n",
      "https://waset.org/applied-engineering-geology-and-hydrogeology-conference-in-july-2022-in-paris\n",
      "https://waset.org/applied-engineering-geology-mines-and-technology-conference-in-july-2022-in-paris\n",
      "https://waset.org/architecture-engineering-and-landscaping-conference-in-july-2022-in-paris\n",
      "https://waset.org/aerospace-engineering-and-manufacturing-conference-in-july-2022-in-paris\n",
      "https://waset.org/agricultural-engineering-and-natural-resources-conference-in-july-2022-in-paris\n",
      "https://waset.org/architectural-and-environmental-planning-conference-in-july-2022-in-paris\n",
      "https://waset.org/agricultural-engineering-and-resource-management-conference-in-july-2022-in-paris\n",
      "https://waset.org/aquatic-ecosystem-restoration-protection-and-management-conference-in-july-2022-in-paris\n",
      "https://waset.org/automotive-electronics-systems-conference-in-july-2022-in-paris\n",
      "https://waset.org/aircraft-evaluation-selection-and-management-conference-in-july-2022-in-paris\n",
      "https://waset.org/aquacultural-engineering-and-system-design-conference-in-july-2022-in-paris\n",
      "https://waset.org/applied-and-environmental-soil-science-conference-in-july-2022-in-paris\n",
      "https://waset.org/aviation-engineering-and-technology-conference-in-july-2022-in-paris\n",
      "https://waset.org/arctic-engineering-technologies-and-applications-conference-in-july-2022-in-paris\n"
     ]
    }
   ],
   "source": [
    "total_df = pd.DataFrame()\n",
    "\n",
    "for u in urls:\n",
    "    print(u)\n",
    "    scrape1(u)\n",
    "    one_df = scrape1(u)\n",
    "    total_df = pd.concat([total_df,one_df])"
   ]
  },
  {
   "cell_type": "code",
   "execution_count": null,
   "id": "acb396a5-3a3e-41d3-bcef-2f8d2e0523df",
   "metadata": {},
   "outputs": [],
   "source": []
  }
 ],
 "metadata": {
  "kernelspec": {
   "display_name": "Python 3 (ipykernel)",
   "language": "python",
   "name": "python3"
  },
  "language_info": {
   "codemirror_mode": {
    "name": "ipython",
    "version": 3
   },
   "file_extension": ".py",
   "mimetype": "text/x-python",
   "name": "python",
   "nbconvert_exporter": "python",
   "pygments_lexer": "ipython3",
   "version": "3.9.12"
  }
 },
 "nbformat": 4,
 "nbformat_minor": 5
}
