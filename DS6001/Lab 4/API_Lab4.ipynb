{
 "cells": [
  {
   "cell_type": "markdown",
   "id": "2fc679b1-576e-4da2-8ab8-b56d1dce9a7d",
   "metadata": {},
   "source": [
    "# Lab 4: Using APIs in Python\n",
    "## Student: Kyler Halat-Shafer\n",
    "## UserID: uxt5qb"
   ]
  },
  {
   "cell_type": "markdown",
   "id": "30471f69-197e-4609-b86e-8fe10fcc150b",
   "metadata": {},
   "source": [
    "### Problem 0"
   ]
  },
  {
   "cell_type": "code",
   "execution_count": 16,
   "id": "6b784dfd-450d-4bfd-99ec-a1e4751e9678",
   "metadata": {},
   "outputs": [],
   "source": [
    "# To download dotenv, you need to download node.js and then pip install python-dotenv in the command line\n",
    "\n",
    "import numpy as np\n",
    "import pandas as pd\n",
    "import requests\n",
    "import json\n",
    "import os\n",
    "import dotenv\n",
    "import sys\n",
    "sys.tracebacklimit = 0 # turn off the error tracebacks"
   ]
  },
  {
   "cell_type": "markdown",
   "id": "a102d810-be79-4c87-af6b-747d233f0a98",
   "metadata": {},
   "source": [
    "### Problem 1"
   ]
  },
  {
   "cell_type": "markdown",
   "id": "9c64b959-5cbb-40a3-af64-4e1874c65a58",
   "metadata": {},
   "source": [
    "To receive the Client ID, Secret Key, and Access Token, you needed to sign up for genuis. To do so you needed to provide URLs associated with the app, by using the collab url provided in the lab assignment I was able to create a profile. From there the tokens became available and I was able to store them, first in a text file. Once I had them in a text file, I saved them as a .env. BEWARE by saving the .env on your desktop it will not appear. You'll have to figure out the path to your desktop and then trust that by /.env you will locate it. "
   ]
  },
  {
   "cell_type": "code",
   "execution_count": 2,
   "id": "8ac53259-3c96-4e60-a476-1d0dd3b87717",
   "metadata": {},
   "outputs": [],
   "source": [
    "root = 'https://api.genius.com'"
   ]
  },
  {
   "cell_type": "code",
   "execution_count": 3,
   "id": "d83adaf9-5b01-48f4-8d93-09d0b05a101a",
   "metadata": {},
   "outputs": [],
   "source": [
    "end_point = '/search'"
   ]
  },
  {
   "cell_type": "code",
   "execution_count": 4,
   "id": "92d1bacb-4d7d-4496-ad2b-62927621561a",
   "metadata": {},
   "outputs": [],
   "source": [
    "useragent = 'Mozilla/5.0 (Macintosh; Intel Mac OS X 10_15_7) AppleWebKit/537.36 (KHTML, like Gecko) Chrome/102.0.0.0 Safari/537.36'"
   ]
  },
  {
   "cell_type": "markdown",
   "id": "10bfc48e-a206-4f50-af85-cb4222437c0a",
   "metadata": {},
   "source": [
    "### Problem 2"
   ]
  },
  {
   "cell_type": "markdown",
   "id": "41fecc64-1ee8-4a82-bb6a-d84707f14e98",
   "metadata": {},
   "source": [
    "After moving the contents and putting them into a .env file, then going through the process of having the proper software on my computer to use the packge dotenv and finding what to import to load the .env file I was able to create variables for each of them. To correctly sparse the token the name to the left of the = in the .env needs to be one word, if it is more you will get an error message. I printed my keys and did an alternative way to ensure that they were there. I have # out the printing so they do not appear in my notebook. "
   ]
  },
  {
   "cell_type": "code",
   "execution_count": 5,
   "id": "68b3a646-2e24-4dbb-a5b0-642a508f83b0",
   "metadata": {},
   "outputs": [],
   "source": [
    "from dotenv import load_dotenv\n",
    "load_dotenv()\n",
    "\n",
    "my_id = os.getenv(\"Client_ID\")\n",
    "my_secret_key = os.getenv(\"Secret_Key\")\n",
    "Bearer = os.getenv(\"Bearer\")\n",
    "Client_Access = os.getenv(\"Access_Token\")\n",
    "\n",
    "#print(f'My Client ID is: {my_id}.')\n",
    "#print(f'My secret key is: {my_secret_key}.')\n",
    "#print(f'Bearer is: {Bearer}.')\n",
    "#print(f'My access key is: {Client_Access}.')"
   ]
  },
  {
   "cell_type": "code",
   "execution_count": 6,
   "id": "3e687f68-112e-4fb3-805d-bba889e2e3cb",
   "metadata": {},
   "outputs": [],
   "source": [
    "#df = pd.read_csv(\".env\", header = None)"
   ]
  },
  {
   "cell_type": "code",
   "execution_count": 7,
   "id": "d19684f4-40c4-4abd-a0e4-d2d40d21ce03",
   "metadata": {},
   "outputs": [],
   "source": [
    "#df"
   ]
  },
  {
   "cell_type": "markdown",
   "id": "f705756f-190c-4a67-b0d3-dfdacede5f0d",
   "metadata": {},
   "source": [
    "### Problem 3"
   ]
  },
  {
   "cell_type": "markdown",
   "id": "09d8a85f-189c-4b82-b38d-c146037cd60c",
   "metadata": {},
   "source": [
    "Below is the format that I saw on the website to understand the Bearer and access token to build out the headers and parameters.\n",
    "\n",
    "GET /some-endpoint HTTP/1.1 <br> \n",
    "User-Agent: CompuServe Classic/1.22 <br> \n",
    "Accept: application/json <br> \n",
    "Host: api.genius.com <br> \n",
    "Authorization: Bearer ACCESS_TOKEN <br> "
   ]
  },
  {
   "cell_type": "code",
   "execution_count": 8,
   "id": "3b5f7b83-43c0-4761-96f0-daf4fd7febfe",
   "metadata": {},
   "outputs": [
    {
     "data": {
      "text/plain": [
       "<Response [200]>"
      ]
     },
     "execution_count": 8,
     "metadata": {},
     "output_type": "execute_result"
    }
   ],
   "source": [
    "r = requests.get(root + end_point,\n",
    "                headers = {'User-agent':useragent,\n",
    "                          'Authorization': 'Bearer' + ' ' + Bearer},\n",
    "                params = {'q':'Bob Dylan', 'ACCESS_TOKEN':Client_Access})\n",
    "r"
   ]
  },
  {
   "cell_type": "code",
   "execution_count": 28,
   "id": "2d7f9b34-e3d5-4467-a13b-3b48a3f5cadc",
   "metadata": {},
   "outputs": [
    {
     "data": {
      "text/plain": [
       "{'highlights': [],\n",
       " 'index': 'song',\n",
       " 'type': 'song',\n",
       " 'result': {'annotation_count': 126,\n",
       "  'api_path': '/songs/5393247',\n",
       "  'artist_names': 'Bob Dylan',\n",
       "  'full_title': 'Murder Most Foul by\\xa0Bob\\xa0Dylan',\n",
       "  'header_image_thumbnail_url': 'https://images.genius.com/7fbaf838ffdf99315408faa29cb566ac.300x300x1.jpg',\n",
       "  'header_image_url': 'https://images.genius.com/7fbaf838ffdf99315408faa29cb566ac.1000x1000x1.jpg',\n",
       "  'id': 5393247,\n",
       "  'lyrics_owner_id': 3360167,\n",
       "  'lyrics_state': 'complete',\n",
       "  'path': '/Bob-dylan-murder-most-foul-lyrics',\n",
       "  'pyongs_count': 36,\n",
       "  'relationships_index_url': 'https://genius.com/Bob-dylan-murder-most-foul-sample',\n",
       "  'release_date_components': {'year': 2020, 'month': 3, 'day': 27},\n",
       "  'release_date_for_display': 'March 27, 2020',\n",
       "  'song_art_image_thumbnail_url': 'https://images.genius.com/7fbaf838ffdf99315408faa29cb566ac.300x300x1.jpg',\n",
       "  'song_art_image_url': 'https://images.genius.com/7fbaf838ffdf99315408faa29cb566ac.1000x1000x1.jpg',\n",
       "  'stats': {'unreviewed_annotations': 39, 'hot': False, 'pageviews': 482512},\n",
       "  'title': 'Murder Most Foul',\n",
       "  'title_with_featured': 'Murder Most Foul',\n",
       "  'url': 'https://genius.com/Bob-dylan-murder-most-foul-lyrics',\n",
       "  'featured_artists': [],\n",
       "  'primary_artist': {'api_path': '/artists/181',\n",
       "   'header_image_url': 'https://images.genius.com/facc753d420efc53bbe1e0b63a72d70b.960x719x1.jpg',\n",
       "   'id': 181,\n",
       "   'image_url': 'https://images.genius.com/22306423b6ad8777d1ed5b33ad8b0d0b.1000x1000x1.jpg',\n",
       "   'is_meme_verified': False,\n",
       "   'is_verified': False,\n",
       "   'name': 'Bob Dylan',\n",
       "   'url': 'https://genius.com/artists/Bob-dylan'}}}"
      ]
     },
     "execution_count": 28,
     "metadata": {},
     "output_type": "execute_result"
    }
   ],
   "source": [
    "myjson = json.loads(r.text)\n",
    "myjson['response']['hits'][0]"
   ]
  },
  {
   "cell_type": "markdown",
   "id": "5026f54b-af43-4fc2-8d60-ff21e026dc43",
   "metadata": {},
   "source": [
    "### Problem 4"
   ]
  },
  {
   "cell_type": "markdown",
   "id": "4c281e58-61b7-4615-9547-af5a147d3214",
   "metadata": {},
   "source": [
    "By expanding on problem 3 you can go into the songs after retrieving the artist id for Bob Dylan. From there you can sort by popularity in the request, which will output the top 20 songs if you list per page as 20 and the page numbers as 1. Then I went into the json file to find the particular area where the song name lives. From there I wrote a list comprehension to get a list of just the names of the top 20 songs. Once I had the list comprehension completed, I made a dataframe using pandas. "
   ]
  },
  {
   "cell_type": "code",
   "execution_count": 10,
   "id": "382579d5-4299-44b4-b0ea-b55c53039c1b",
   "metadata": {},
   "outputs": [
    {
     "data": {
      "text/plain": [
       "<Response [200]>"
      ]
     },
     "execution_count": 10,
     "metadata": {},
     "output_type": "execute_result"
    }
   ],
   "source": [
    "root = 'https://api.genius.com'\n",
    "end_point2 = '/artists/181/songs'\n",
    "\n",
    "r2 = requests.get(root + end_point2,\n",
    "                  headers = {'User-agent':useragent,\n",
    "                             'Authorization': 'Bearer' + ' ' + Bearer},\n",
    "                  params = {'id' : 181,\n",
    "                            'sort': 'popularity',\n",
    "                            'per_page': 20,\n",
    "                            'page': 1,\n",
    "                            'ACCESS_TOKEN' :Client_Access})\n",
    "r2"
   ]
  },
  {
   "cell_type": "code",
   "execution_count": 55,
   "id": "b579dc0f-8e42-4b83-be63-15180261a2de",
   "metadata": {},
   "outputs": [
    {
     "name": "stdout",
     "output_type": "stream",
     "text": [
      "We Are the World\n",
      "Blowin’ in the Wind\n",
      "Murder Most Foul\n",
      "Make You Feel My Love\n"
     ]
    }
   ],
   "source": [
    "myjson2 = json.loads(r2.text)\n",
    "print(myjson2['response']['songs'][0]['title'])\n",
    "print(myjson2['response']['songs'][1]['title'])\n",
    "print(myjson2['response']['songs'][2]['title'])\n",
    "print(myjson2['response']['songs'][3]['title'])"
   ]
  },
  {
   "cell_type": "code",
   "execution_count": 56,
   "id": "e67d6d5b-60ac-443f-95c3-f73fecb981ab",
   "metadata": {},
   "outputs": [
    {
     "data": {
      "text/plain": [
       "['We Are the World',\n",
       " 'Blowin’ in the Wind',\n",
       " 'Murder Most Foul',\n",
       " 'Make You Feel My Love',\n",
       " 'The Times They Are A-Changin’',\n",
       " 'All Along the Watchtower',\n",
       " 'Knockin’ on Heaven’s Door',\n",
       " 'Like a Rolling Stone',\n",
       " 'Don’t Think Twice, It’s All Right',\n",
       " 'All Along the Watchtower',\n",
       " 'Make You Feel My Love',\n",
       " 'Hurricane',\n",
       " 'Mr. Tambourine Man',\n",
       " 'A Hard Rain’s A-Gonna Fall',\n",
       " 'Wagon Wheel',\n",
       " 'Subterranean Homesick Blues',\n",
       " 'Desolation Row',\n",
       " 'Tangled Up in Blue',\n",
       " 'Masters of War',\n",
       " 'Knockin’ on Heaven’s Door']"
      ]
     },
     "execution_count": 56,
     "metadata": {},
     "output_type": "execute_result"
    }
   ],
   "source": [
    "top_20 = [x ['title'] for x in myjson2['response']['songs']]\n",
    "top_20"
   ]
  },
  {
   "cell_type": "code",
   "execution_count": 64,
   "id": "6afa5817-52ed-45a9-9250-e8cfcf914470",
   "metadata": {},
   "outputs": [
    {
     "data": {
      "text/html": [
       "<div>\n",
       "<style scoped>\n",
       "    .dataframe tbody tr th:only-of-type {\n",
       "        vertical-align: middle;\n",
       "    }\n",
       "\n",
       "    .dataframe tbody tr th {\n",
       "        vertical-align: top;\n",
       "    }\n",
       "\n",
       "    .dataframe thead th {\n",
       "        text-align: right;\n",
       "    }\n",
       "</style>\n",
       "<table border=\"1\" class=\"dataframe\">\n",
       "  <thead>\n",
       "    <tr style=\"text-align: right;\">\n",
       "      <th></th>\n",
       "      <th>Songs</th>\n",
       "    </tr>\n",
       "  </thead>\n",
       "  <tbody>\n",
       "    <tr>\n",
       "      <th>0</th>\n",
       "      <td>We Are the World</td>\n",
       "    </tr>\n",
       "    <tr>\n",
       "      <th>1</th>\n",
       "      <td>Blowin’ in the Wind</td>\n",
       "    </tr>\n",
       "    <tr>\n",
       "      <th>2</th>\n",
       "      <td>Murder Most Foul</td>\n",
       "    </tr>\n",
       "    <tr>\n",
       "      <th>3</th>\n",
       "      <td>Make You Feel My Love</td>\n",
       "    </tr>\n",
       "    <tr>\n",
       "      <th>4</th>\n",
       "      <td>The Times They Are A-Changin’</td>\n",
       "    </tr>\n",
       "    <tr>\n",
       "      <th>5</th>\n",
       "      <td>All Along the Watchtower</td>\n",
       "    </tr>\n",
       "    <tr>\n",
       "      <th>6</th>\n",
       "      <td>Knockin’ on Heaven’s Door</td>\n",
       "    </tr>\n",
       "    <tr>\n",
       "      <th>7</th>\n",
       "      <td>Like a Rolling Stone</td>\n",
       "    </tr>\n",
       "    <tr>\n",
       "      <th>8</th>\n",
       "      <td>Don’t Think Twice, It’s All Right</td>\n",
       "    </tr>\n",
       "    <tr>\n",
       "      <th>9</th>\n",
       "      <td>All Along the Watchtower</td>\n",
       "    </tr>\n",
       "    <tr>\n",
       "      <th>10</th>\n",
       "      <td>Make You Feel My Love</td>\n",
       "    </tr>\n",
       "    <tr>\n",
       "      <th>11</th>\n",
       "      <td>Hurricane</td>\n",
       "    </tr>\n",
       "    <tr>\n",
       "      <th>12</th>\n",
       "      <td>Mr. Tambourine Man</td>\n",
       "    </tr>\n",
       "    <tr>\n",
       "      <th>13</th>\n",
       "      <td>A Hard Rain’s A-Gonna Fall</td>\n",
       "    </tr>\n",
       "    <tr>\n",
       "      <th>14</th>\n",
       "      <td>Wagon Wheel</td>\n",
       "    </tr>\n",
       "    <tr>\n",
       "      <th>15</th>\n",
       "      <td>Subterranean Homesick Blues</td>\n",
       "    </tr>\n",
       "    <tr>\n",
       "      <th>16</th>\n",
       "      <td>Desolation Row</td>\n",
       "    </tr>\n",
       "    <tr>\n",
       "      <th>17</th>\n",
       "      <td>Tangled Up in Blue</td>\n",
       "    </tr>\n",
       "    <tr>\n",
       "      <th>18</th>\n",
       "      <td>Masters of War</td>\n",
       "    </tr>\n",
       "    <tr>\n",
       "      <th>19</th>\n",
       "      <td>Knockin’ on Heaven’s Door</td>\n",
       "    </tr>\n",
       "  </tbody>\n",
       "</table>\n",
       "</div>"
      ],
      "text/plain": [
       "                                Songs\n",
       "0                    We Are the World\n",
       "1                 Blowin’ in the Wind\n",
       "2                    Murder Most Foul\n",
       "3               Make You Feel My Love\n",
       "4       The Times They Are A-Changin’\n",
       "5            All Along the Watchtower\n",
       "6           Knockin’ on Heaven’s Door\n",
       "7                Like a Rolling Stone\n",
       "8   Don’t Think Twice, It’s All Right\n",
       "9            All Along the Watchtower\n",
       "10              Make You Feel My Love\n",
       "11                          Hurricane\n",
       "12                 Mr. Tambourine Man\n",
       "13         A Hard Rain’s A-Gonna Fall\n",
       "14                        Wagon Wheel\n",
       "15        Subterranean Homesick Blues\n",
       "16                     Desolation Row\n",
       "17                 Tangled Up in Blue\n",
       "18                     Masters of War\n",
       "19          Knockin’ on Heaven’s Door"
      ]
     },
     "execution_count": 64,
     "metadata": {},
     "output_type": "execute_result"
    }
   ],
   "source": [
    "# The output in a list comprehension goes first, then what it will be repeating through to get that output, here it needs to go into myjson2, down the level respone\n",
    "# and then down again to songs \n",
    "\n",
    "top_20_df = pd.DataFrame([x ['title'] for x in myjson2['response']['songs']])\n",
    "top_20_df.columns = ['Songs']\n",
    "top_20_df"
   ]
  },
  {
   "cell_type": "markdown",
   "id": "1a5afb41-d32f-4fcc-b28b-8c9e0c00170d",
   "metadata": {},
   "source": [
    "### Problem 5"
   ]
  },
  {
   "cell_type": "markdown",
   "id": "7ef30f31-f3f5-446b-b6fa-4b58806f1ff2",
   "metadata": {},
   "source": [
    "By reading the documentation on GitHub, each piece of what to look for became clear once lyricgenius was downloaded on my local machine. "
   ]
  },
  {
   "cell_type": "code",
   "execution_count": 12,
   "id": "1ec6c183-921d-426a-9126-d0e3f8cd51c0",
   "metadata": {},
   "outputs": [],
   "source": [
    "# Done in the command line: pip install lyricsgenius\n",
    "import lyricsgenius\n",
    "token = Client_Access\n",
    "genius = lyricsgenius.Genius(token)"
   ]
  },
  {
   "cell_type": "code",
   "execution_count": 13,
   "id": "3dc1b39c-7a6f-47d3-889e-ec64a3203c47",
   "metadata": {},
   "outputs": [
    {
     "name": "stdout",
     "output_type": "stream",
     "text": [
      "Searching for songs by Bob Dylan...\n",
      "\n",
      "Song 1: \"10,000 Men\"\n",
      "Song 2: \"2 X 2\"\n",
      "Song 3: \"32-20 Blues\"\n",
      "\n",
      "Reached user-specified song limit (3).\n",
      "Done. Found 3 songs.\n",
      "[Song(id, artist, ...), Song(id, artist, ...), Song(id, artist, ...)]\n"
     ]
    }
   ],
   "source": [
    "artist = genius.search_artist(\"Bob Dylan\", max_songs=3, sort=\"title\")\n",
    "print(artist.songs)"
   ]
  },
  {
   "cell_type": "code",
   "execution_count": 14,
   "id": "264195f8-01b8-40ca-bf89-ea73c60891be",
   "metadata": {},
   "outputs": [
    {
     "name": "stdout",
     "output_type": "stream",
     "text": [
      "Searching for \"Tangled Up in Blue\" by Bob Dylan...\n",
      "Done.\n"
     ]
    }
   ],
   "source": [
    "song = artist.song(\"Tangled Up in Blue\")"
   ]
  },
  {
   "cell_type": "code",
   "execution_count": 15,
   "id": "67d604ad-a1d0-4ed9-afae-2af9fd1d407c",
   "metadata": {},
   "outputs": [
    {
     "name": "stdout",
     "output_type": "stream",
     "text": [
      "Tangled Up in Blue Lyrics[Verse 1]\n",
      "Early one morning the sun was shining\n",
      "I was laying in bed\n",
      "Wondering if she'd changed at all\n",
      "If her hair was still red\n",
      "Her folks they said our lives together\n",
      "Sure was going to be rough\n",
      "They never did like Mama's homemade dress\n",
      "Papa's bankbook wasn't big enough\n",
      "And I was standing on the side of the road\n",
      "Rain falling on my shoes\n",
      "Heading out for the East Coast\n",
      "Lord knows I've paid some dues\n",
      "Getting through\n",
      "Tangled up in blue\n",
      "[Verse 2]\n",
      "She was married when we first met\n",
      "Soon to be divorced\n",
      "I helped her out of a jam, I guess\n",
      "But I used a little too much force\n",
      "We drove that car as far as we could\n",
      "Abandoned it out west\n",
      "Split up on a dark sad night\n",
      "Both agreeing it was best\n",
      "She turned around to look at me\n",
      "As I was walking away\n",
      "I heard her say over my shoulder\n",
      "\"We'll meet again someday\n",
      "On the avenue\"\n",
      "Tangled up in blue\n",
      "\n",
      "[Verse 3]\n",
      "I had a job in the great north woods\n",
      "Working as a cook for a spell\n",
      "But I never did like it all that much\n",
      "And one day the ax just fell\n",
      "So I drifted down to New Orleans\n",
      "Where I lucky was to be employed\n",
      "Working for a while on a fishing boat\n",
      "Right outside of Delacroix\n",
      "But all the while I was alone\n",
      "The past was close behind\n",
      "I seen a lot of women\n",
      "But she never escaped my mind\n",
      "And I just grew\n",
      "Tangled up in blue\n",
      "[Verse 4]\n",
      "She was working in a topless place\n",
      "And I stopped in for a beer\n",
      "I just kept looking at the side of her face\n",
      "In the spotlight, so clear\n",
      "And later on, when the crowd thinned out\n",
      "I was just about to do the same\n",
      "She was standing there, in back of my chair\n",
      "Said, \"Tell me, don't I know your name?\"\n",
      "I muttered something underneath my breath\n",
      "She studied the lines on my face\n",
      "I must admit, I felt a little uneasy\n",
      "When she bent down to tie the laces\n",
      "Of my shoe\n",
      "Tangled up in blue\n",
      "\n",
      "[Verse 5]\n",
      "She lit a burner on the stove\n",
      "And offered me a pipe\n",
      "\"I thought you'd never say hello,\" she said\n",
      "\"You look like the silent type\"\n",
      "Then she opened up a book of poems\n",
      "And handed it to me\n",
      "Written by an Italian poet\n",
      "From the thirteenth century\n",
      "And every one of them words rang true\n",
      "And glowed like burning coal\n",
      "Pouring off of every page\n",
      "Like it was written in my soul\n",
      "From me to you\n",
      "Tangled up in blue\n",
      "[Verse 6]\n",
      "I lived with them on Montague Street\n",
      "In a basement down the stairs\n",
      "There was music in the cafes at night\n",
      "And revolution in the air\n",
      "Then he started into dealing with slaves\n",
      "And something inside of him died\n",
      "She had to sell everything she owned\n",
      "And froze up inside\n",
      "And when it finally, the bottom fell out\n",
      "I became withdrawn\n",
      "The only thing I knew how to do\n",
      "Was to keep on keeping on\n",
      "Like a bird that flew\n",
      "Tangled up in blue\n",
      "\n",
      "[Verse 7]\n",
      "So now I'm going back again\n",
      "I got to get to her somehow\n",
      "All the people we used to know\n",
      "They're an illusion to me now\n",
      "Some are mathematicians\n",
      "Some are carpenter's wives\n",
      "Don't know how it all got started\n",
      "I don't know what they're doing with their lives\n",
      "But me, I'm still on the road\n",
      "A-heading for another joint\n",
      "We always did feel the same\n",
      "We just saw it from a different point\n",
      "Of view\n",
      "Tangled up in blue24Embed\n"
     ]
    }
   ],
   "source": [
    "print(song.lyrics)"
   ]
  }
 ],
 "metadata": {
  "kernelspec": {
   "display_name": "Python 3 (ipykernel)",
   "language": "python",
   "name": "python3"
  },
  "language_info": {
   "codemirror_mode": {
    "name": "ipython",
    "version": 3
   },
   "file_extension": ".py",
   "mimetype": "text/x-python",
   "name": "python",
   "nbconvert_exporter": "python",
   "pygments_lexer": "ipython3",
   "version": "3.9.12"
  }
 },
 "nbformat": 4,
 "nbformat_minor": 5
}
