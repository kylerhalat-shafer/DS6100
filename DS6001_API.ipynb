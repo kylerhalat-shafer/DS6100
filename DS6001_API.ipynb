{
 "cells": [
  {
   "cell_type": "markdown",
   "id": "0773a91a-f08f-46fd-9063-2fca1b91bec3",
   "metadata": {},
   "source": [
    "# API"
   ]
  },
  {
   "cell_type": "code",
   "execution_count": 1,
   "id": "f5148857-3496-47de-92fa-481f35fcb0b4",
   "metadata": {},
   "outputs": [],
   "source": [
    "import pandas as pd\n",
    "import numpy as np\n",
    "import json\n",
    "from datetime import datetime\n",
    "import requests"
   ]
  },
  {
   "cell_type": "markdown",
   "id": "8d231134-c162-4aa7-85a8-3b60b2473d17",
   "metadata": {},
   "source": [
    "First look for the end point - so you can use the get "
   ]
  },
  {
   "cell_type": "code",
   "execution_count": 2,
   "id": "13bc3cc3-926a-4957-9a5b-eded0e62d5b2",
   "metadata": {},
   "outputs": [],
   "source": [
    "endpoint = '/api/mobile/sessions.json'"
   ]
  },
  {
   "cell_type": "code",
   "execution_count": 3,
   "id": "f3b21146-501d-4a7c-a8c0-6273c7d98b9d",
   "metadata": {},
   "outputs": [],
   "source": [
    "root = 'http://aircasting.habitatmap.org'"
   ]
  },
  {
   "cell_type": "code",
   "execution_count": 5,
   "id": "8d3d268a-6aae-44dd-af70-6782ebce7002",
   "metadata": {},
   "outputs": [
    {
     "data": {
      "text/plain": [
       "1657044323"
      ]
     },
     "execution_count": 5,
     "metadata": {},
     "output_type": "execute_result"
    }
   ],
   "source": [
    "seconds_since_epoch = datetime.now().timestamp()\n",
    "int(seconds_since_epoch)\n",
    "# You can look at the docstring for datetime, right click, open up console for this notebook\n",
    "# then at in ? "
   ]
  },
  {
   "cell_type": "code",
   "execution_count": 6,
   "id": "8678b9fb-7e9a-43e6-ba54-fbc3380297d4",
   "metadata": {},
   "outputs": [],
   "source": [
    "#Year, month, day, hour, minute, second\n",
    "time_to = int(datetime(2022, 7, 5, 16,43,0).timestamp())\n",
    "time_from = int(datetime(2018, 7, 5, 16,43,0).timestamp())"
   ]
  },
  {
   "cell_type": "code",
   "execution_count": 7,
   "id": "f4188efe-b7b8-496e-b9e2-68f4b415e88a",
   "metadata": {},
   "outputs": [],
   "source": [
    "#Latitude and longitude:\n",
    "west = -86.788254\n",
    "south = 29.206719\n",
    "east = -76.421585\n",
    "north = 49.415508"
   ]
  },
  {
   "cell_type": "code",
   "execution_count": 8,
   "id": "17ae738a-1d0d-42cd-b596-adc4b68192f2",
   "metadata": {},
   "outputs": [],
   "source": [
    "useragent = 'Mozilla/5.0 (Windows NT 10.0; Win64; x64) AppleWebKit/537.36 (KHTML, like Gecko) Chrome/103.0.0.0 Safari/537.36'"
   ]
  },
  {
   "cell_type": "code",
   "execution_count": 21,
   "id": "b6b53085-c5a3-4281-9a41-ffd8204d2d4d",
   "metadata": {},
   "outputs": [],
   "source": [
    "#By taking the example from the github page that documents the API, we took the parameters\n",
    "\n",
    "parameters = {\"time_from\":time_from,\n",
    "\"time_to\":time_to,\n",
    "\"tags\":\"\",\n",
    "\"usernames\":\"\",\n",
    "\"west\": west,\n",
    "\"east\": east,\n",
    "\"south\": south,\n",
    "\"north\":north,\n",
    "\"limit\":100,\n",
    "\"offset\":0,\n",
    "\"sensor_name\":\"airbeam2-pm2.5\",\n",
    "\"measurement_type\":\"Particulate Matter\",\n",
    "\"unit_symbol\":\"µg/m³\"}"
   ]
  },
  {
   "cell_type": "markdown",
   "id": "bda2a010-807c-4b98-9cfc-fb845a5492ea",
   "metadata": {},
   "source": [
    "We pulled the root from this, as we can see where the endpoint begins before the ?q, which the parameters are there after\n",
    "\n",
    "http://aircasting.habitatmap.org\n",
    "/api/mobile/sessions.json?q=\n",
    "{\"time_from\":1533081600,\n",
    "\"time_to\":1535759940,\n",
    "\"tags\":\"\",\n",
    "\"usernames\":\"HabitatMap\",\n",
    "\"west\":-73.96594349649638,\n",
    "\"east\":-73.9480263402769,\n",
    "\"south\":40.70849431072799,\n",
    "\"north\":40.713585287529995,\n",
    "\"limit\":1,\n",
    "\"offset\":0,\n",
    "\"sensor_name\":\"airbeam2-pm2.5\",\n",
    "\"measurement_type\":\"Particulate Matter\",\n",
    "\"unit_symbol\":\"µg/m³\"}"
   ]
  },
  {
   "cell_type": "markdown",
   "id": "4e9fe37c-d811-45ff-a29f-1b276da27925",
   "metadata": {},
   "source": [
    "One of the parameters is time, which is shown as unix time or seconds since epoch (Jan 1, 1970)\n",
    "\n",
    "These times are given at the prime meridian "
   ]
  },
  {
   "cell_type": "code",
   "execution_count": 22,
   "id": "b2836f6f-a929-484c-9987-cb6b2a2e68ad",
   "metadata": {},
   "outputs": [
    {
     "data": {
      "text/plain": [
       "'{\"time_from\": 1530834180, \"time_to\": 1657064580, \"tags\": \"\", \"usernames\": \"\", \"west\": -86.788254, \"east\": -76.421585, \"south\": 29.206719, \"north\": 49.415508, \"limit\": 100, \"offset\": 0, \"sensor_name\": \"airbeam2-pm2.5\", \"measurement_type\": \"Particulate Matter\", \"unit_symbol\": \"\\\\u00b5g/m\\\\u00b3\"}'"
      ]
     },
     "execution_count": 22,
     "metadata": {},
     "output_type": "execute_result"
    }
   ],
   "source": [
    "# then you need to use the json.dumps in order to get the \"\" that was needed\n",
    "json.dumps(parameters)"
   ]
  },
  {
   "cell_type": "code",
   "execution_count": 23,
   "id": "ed0231f8-f983-40ac-b851-cab7eb1b3d59",
   "metadata": {},
   "outputs": [
    {
     "data": {
      "text/plain": [
       "{'q': '{\"time_from\": 1530834180, \"time_to\": 1657064580, \"tags\": \"\", \"usernames\": \"\", \"west\": -86.788254, \"east\": -76.421585, \"south\": 29.206719, \"north\": 49.415508, \"limit\": 100, \"offset\": 0, \"sensor_name\": \"airbeam2-pm2.5\", \"measurement_type\": \"Particulate Matter\", \"unit_symbol\": \"\\\\u00b5g/m\\\\u00b3\"}'}"
      ]
     },
     "execution_count": 23,
     "metadata": {},
     "output_type": "execute_result"
    }
   ],
   "source": [
    "# need to build a new dictionary to have the q included, which is in the format\n",
    "newdict = {'q' : json.dumps(parameters)}\n",
    "newdict"
   ]
  },
  {
   "cell_type": "code",
   "execution_count": 24,
   "id": "a32bd50d-fc32-446b-8e60-71d6dc9274ba",
   "metadata": {},
   "outputs": [
    {
     "data": {
      "text/plain": [
       "<Response [200]>"
      ]
     },
     "execution_count": 24,
     "metadata": {},
     "output_type": "execute_result"
    }
   ],
   "source": [
    "# At first we left the parameters blank and then went in to fill them back\n",
    "\n",
    "r = requests.get(root + endpoint,\n",
    "                 headers = {'User-agent':useragent},\n",
    "                 params = newdict)\n",
    "r"
   ]
  },
  {
   "cell_type": "code",
   "execution_count": 25,
   "id": "0715ee37-96da-4022-91f4-7677dc4d577d",
   "metadata": {},
   "outputs": [
    {
     "data": {
      "text/plain": [
       "{'sessions': [{'id': 1717086,\n",
       "   'title': 'i',\n",
       "   'start_time_local': '2021-01-30T23:21:22.000Z',\n",
       "   'end_time_local': '2021-01-30T23:46:24.000Z',\n",
       "   'type': 'MobileSession',\n",
       "   'username': 'Devin J',\n",
       "   'streams': {'AirBeam2-PM2.5': {'average_value': 21.3389,\n",
       "     'id': 2097514,\n",
       "     'max_latitude': 37.5224108,\n",
       "     'max_longitude': -77.3964754,\n",
       "     'measurement_short_type': 'PM',\n",
       "     'measurement_type': 'Particulate Matter',\n",
       "     'measurements_count': 1502,\n",
       "     'min_latitude': 37.5221928,\n",
       "     'min_longitude': -77.396713,\n",
       "     'sensor_name': 'AirBeam2-PM2.5',\n",
       "     'sensor_package_name': 'AirBeam2:001896000326',\n",
       "     'session_id': 1717086,\n",
       "     'size': 1502,\n",
       "     'start_latitude': 37.5222549,\n",
       "     'start_longitude': -77.3964754,\n",
       "     'threshold_high': 55,\n",
       "     'threshold_low': 12,\n",
       "     'threshold_medium': 35,\n",
       "     'threshold_very_high': 150,\n",
       "     'threshold_very_low': 0,\n",
       "     'unit_name': 'micrograms per cubic meter',\n",
       "     'unit_symbol': 'µg/m³'}}},\n",
       "  {'id': 1691939,\n",
       "   'title': '6.29 cullowhee nc',\n",
       "   'start_time_local': '2020-06-29T14:21:54.000Z',\n",
       "   'end_time_local': '2020-06-29T23:43:03.000Z',\n",
       "   'type': 'MobileSession',\n",
       "   'username': 'WheeBreathe',\n",
       "   'streams': {'AirBeam2-PM2.5': {'average_value': 14.4862,\n",
       "     'id': 2013159,\n",
       "     'max_latitude': 35.3254188,\n",
       "     'max_longitude': -83.1750362,\n",
       "     'measurement_short_type': 'PM',\n",
       "     'measurement_type': 'Particulate Matter',\n",
       "     'measurements_count': 33664,\n",
       "     'min_latitude': 35.324975,\n",
       "     'min_longitude': -83.1755205,\n",
       "     'sensor_name': 'AirBeam2-PM2.5',\n",
       "     'sensor_package_name': 'AirBeam2:00189600029D',\n",
       "     'session_id': 1691939,\n",
       "     'size': 33664,\n",
       "     'start_latitude': 35.3251567,\n",
       "     'start_longitude': -83.1753302,\n",
       "     'threshold_high': 55,\n",
       "     'threshold_low': 12,\n",
       "     'threshold_medium': 35,\n",
       "     'threshold_very_high': 150,\n",
       "     'threshold_very_low': 0,\n",
       "     'unit_name': 'micrograms per cubic meter',\n",
       "     'unit_symbol': 'µg/m³'}}},\n",
       "  {'id': 112829,\n",
       "   'title': '',\n",
       "   'start_time_local': '2020-01-20T23:41:42.000Z',\n",
       "   'end_time_local': '2020-01-20T23:52:21.000Z',\n",
       "   'type': 'MobileSession',\n",
       "   'username': 'Wadesworld18',\n",
       "   'streams': {'AirBeam2-PM2.5': {'average_value': 3.51788,\n",
       "     'id': 399960,\n",
       "     'max_latitude': 38.9824589,\n",
       "     'max_longitude': -76.9224095,\n",
       "     'measurement_short_type': 'PM',\n",
       "     'measurement_type': 'Particulate Matter',\n",
       "     'measurements_count': 643,\n",
       "     'min_latitude': 38.9772223,\n",
       "     'min_longitude': -76.9342382,\n",
       "     'sensor_name': 'AirBeam2-PM2.5',\n",
       "     'sensor_package_name': 'AirBeam2:001896107194',\n",
       "     'session_id': 112829,\n",
       "     'size': 643,\n",
       "     'start_latitude': 38.9795275,\n",
       "     'start_longitude': -76.9227714,\n",
       "     'threshold_high': 55,\n",
       "     'threshold_low': 12,\n",
       "     'threshold_medium': 35,\n",
       "     'threshold_very_high': 150,\n",
       "     'threshold_very_low': 0,\n",
       "     'unit_name': 'micrograms per cubic meter',\n",
       "     'unit_symbol': 'µg/m³'}}},\n",
       "  {'id': 101379,\n",
       "   'title': 'chm410 indoor env',\n",
       "   'start_time_local': '2019-09-26T20:45:09.000Z',\n",
       "   'end_time_local': '2019-09-26T23:46:22.000Z',\n",
       "   'type': 'MobileSession',\n",
       "   'username': 'CHM410',\n",
       "   'streams': {'AirBeam2-PM2.5': {'average_value': 3.91908,\n",
       "     'id': 358235,\n",
       "     'max_latitude': 43.7027177,\n",
       "     'max_longitude': -79.3010367,\n",
       "     'measurement_short_type': 'PM',\n",
       "     'measurement_type': 'Particulate Matter',\n",
       "     'measurements_count': 10875,\n",
       "     'min_latitude': 43.7025683,\n",
       "     'min_longitude': -79.301225,\n",
       "     'sensor_name': 'AirBeam2-PM2.5',\n",
       "     'sensor_package_name': 'AirBeam2:001896100C66',\n",
       "     'session_id': 101379,\n",
       "     'size': 10875,\n",
       "     'start_latitude': 43.7027177,\n",
       "     'start_longitude': -79.301108,\n",
       "     'threshold_high': 55,\n",
       "     'threshold_low': 12,\n",
       "     'threshold_medium': 35,\n",
       "     'threshold_very_high': 150,\n",
       "     'threshold_very_low': 0,\n",
       "     'unit_name': 'micrograms per cubic meter',\n",
       "     'unit_symbol': 'µg/m³'}}},\n",
       "  {'id': 79453,\n",
       "   'title': '',\n",
       "   'start_time_local': '2019-02-08T23:27:55.000Z',\n",
       "   'end_time_local': '2019-02-08T23:47:48.000Z',\n",
       "   'type': 'MobileSession',\n",
       "   'username': 'Wadesworld18',\n",
       "   'streams': {'AirBeam2-PM2.5': {'average_value': 1.00671,\n",
       "     'id': 278072,\n",
       "     'max_latitude': 39.68342715,\n",
       "     'max_longitude': -76.42076493,\n",
       "     'measurement_short_type': 'PM',\n",
       "     'measurement_type': 'Particulate Matter',\n",
       "     'measurements_count': 1193,\n",
       "     'min_latitude': 38.98240575,\n",
       "     'min_longitude': -76.93418214,\n",
       "     'sensor_name': 'AirBeam2-PM2.5',\n",
       "     'sensor_package_name': 'AirBeam2:001896107194',\n",
       "     'session_id': 79453,\n",
       "     'size': 1193,\n",
       "     'start_latitude': 39.68342715,\n",
       "     'start_longitude': -76.42076493,\n",
       "     'threshold_high': 55,\n",
       "     'threshold_low': 12,\n",
       "     'threshold_medium': 35,\n",
       "     'threshold_very_high': 150,\n",
       "     'threshold_very_low': 0,\n",
       "     'unit_name': 'micrograms per cubic meter',\n",
       "     'unit_symbol': 'µg/m³'}}}],\n",
       " 'fetchableSessionsCount': 5}"
      ]
     },
     "execution_count": 25,
     "metadata": {},
     "output_type": "execute_result"
    }
   ],
   "source": [
    "json.loads(r.text)"
   ]
  },
  {
   "cell_type": "code",
   "execution_count": 27,
   "id": "8b8ca70a-e9c3-40bf-8a12-f0729da7e106",
   "metadata": {},
   "outputs": [],
   "source": [
    "sessiondf = pd.json_normalize(json.loads(r.text), record_path = 'sessions')"
   ]
  },
  {
   "cell_type": "code",
   "execution_count": 28,
   "id": "86c49e7d-107f-4ce9-8505-6fa620653915",
   "metadata": {},
   "outputs": [
    {
     "data": {
      "text/plain": [
       "Index(['id', 'title', 'start_time_local', 'end_time_local', 'type', 'username',\n",
       "       'streams.AirBeam2-PM2.5.average_value', 'streams.AirBeam2-PM2.5.id',\n",
       "       'streams.AirBeam2-PM2.5.max_latitude',\n",
       "       'streams.AirBeam2-PM2.5.max_longitude',\n",
       "       'streams.AirBeam2-PM2.5.measurement_short_type',\n",
       "       'streams.AirBeam2-PM2.5.measurement_type',\n",
       "       'streams.AirBeam2-PM2.5.measurements_count',\n",
       "       'streams.AirBeam2-PM2.5.min_latitude',\n",
       "       'streams.AirBeam2-PM2.5.min_longitude',\n",
       "       'streams.AirBeam2-PM2.5.sensor_name',\n",
       "       'streams.AirBeam2-PM2.5.sensor_package_name',\n",
       "       'streams.AirBeam2-PM2.5.session_id', 'streams.AirBeam2-PM2.5.size',\n",
       "       'streams.AirBeam2-PM2.5.start_latitude',\n",
       "       'streams.AirBeam2-PM2.5.start_longitude',\n",
       "       'streams.AirBeam2-PM2.5.threshold_high',\n",
       "       'streams.AirBeam2-PM2.5.threshold_low',\n",
       "       'streams.AirBeam2-PM2.5.threshold_medium',\n",
       "       'streams.AirBeam2-PM2.5.threshold_very_high',\n",
       "       'streams.AirBeam2-PM2.5.threshold_very_low',\n",
       "       'streams.AirBeam2-PM2.5.unit_name',\n",
       "       'streams.AirBeam2-PM2.5.unit_symbol'],\n",
       "      dtype='object')"
      ]
     },
     "execution_count": 28,
     "metadata": {},
     "output_type": "execute_result"
    }
   ],
   "source": [
    "sessiondf.columns"
   ]
  },
  {
   "cell_type": "code",
   "execution_count": 32,
   "id": "598707b2-caf2-40b6-be57-78c6c6c6eb71",
   "metadata": {},
   "outputs": [],
   "source": [
    "streamID = sessiondf['streams.AirBeam2-PM2.5.id']"
   ]
  },
  {
   "cell_type": "code",
   "execution_count": 33,
   "id": "c2579f35-951d-4f57-957b-d8a1639bc89d",
   "metadata": {},
   "outputs": [],
   "source": [
    "endpoint2 = '/api/measurements.json'\n",
    "params2 = {'stream_ids': streamID}"
   ]
  },
  {
   "cell_type": "code",
   "execution_count": null,
   "id": "9ffa2c68-1b90-4a7c-8e8c-37d0e51922c9",
   "metadata": {},
   "outputs": [],
   "source": []
  }
 ],
 "metadata": {
  "kernelspec": {
   "display_name": "Python 3 (ipykernel)",
   "language": "python",
   "name": "python3"
  },
  "language_info": {
   "codemirror_mode": {
    "name": "ipython",
    "version": 3
   },
   "file_extension": ".py",
   "mimetype": "text/x-python",
   "name": "python",
   "nbconvert_exporter": "python",
   "pygments_lexer": "ipython3",
   "version": "3.9.12"
  }
 },
 "nbformat": 4,
 "nbformat_minor": 5
}
