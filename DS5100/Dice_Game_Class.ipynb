{
 "cells": [
  {
   "cell_type": "code",
   "execution_count": 1,
   "id": "83be9e1a-271c-4923-80fb-77e80a40f7fb",
   "metadata": {},
   "outputs": [],
   "source": [
    "import pandas as pd\n",
    "import numpy as np\n",
    "import random"
   ]
  },
  {
   "cell_type": "code",
   "execution_count": 58,
   "id": "0a5a2abb-092f-4331-bcdc-d7b3d4af2c10",
   "metadata": {},
   "outputs": [],
   "source": [
    "class DieGame ():\n",
    "    \n",
    "    num_dice = [1,2,3,4,5,6]\n",
    "    #df2 = pd.DataFrame({'num_rolls':[], 'num_dice':[]})\n",
    "    \n",
    "    def __init__(self):\n",
    "        return None \n",
    "    \n",
    "    def dice_input(self):\n",
    "        self.dice_input = input(\"How many dice do you want to roll? [1-6] \")\n",
    "    \n",
    "    def parse_input(self):\n",
    "        \"\"\"Return `input_string` as an integer between 1 and 6.\n",
    "        \n",
    "        Check if `input_string` is an integer number between 1 and 6.\n",
    "        If so, return an integer with the same value. Otherwise, tell\n",
    "        the user to enter a valid number and quit the program.\n",
    "        \"\"\"\n",
    "        if self.dice_input.strip() in {\"1\", \"2\", \"3\", \"4\", \"5\", \"6\"}:\n",
    "            return int(self.dice_input)\n",
    "        else:\n",
    "            print(\"Please enter a number from 1 to 6.\")\n",
    "            raise SystemExit(1)\n",
    "\n",
    "    def num_dice(self):\n",
    "        self.num_dice = self.parse_input(self.dice_input)\n",
    "    \n",
    "    def roll_dice(self, num_dice):\n",
    "        \"\"\"Return a list of integers with length `num_dice`.\n",
    "        \n",
    "        Each integer in the returned list is a random number between\n",
    "        1 and 6, inclusive.\n",
    "        \"\"\"\n",
    "        roll_results = []\n",
    "        for n in range(num_dice):\n",
    "            roll = random.randint(1, 6)\n",
    "            roll_results.append(roll)\n",
    "    \n",
    "    def roll_results(self,num_dice):\n",
    "        roll_results = self.roll_dice(self.num_dice) #roll_dice is a method in this class, put it is not defined\n",
    "        return print(roll_results)\n",
    "    \n",
    "    def magic(self, num_dice):\n",
    "        self.dice_input()\n",
    "        self.parse_input()\n",
    "        self.num_dice()\n",
    "        self.roll_dice()\n",
    "        self.roll_results()"
   ]
  },
  {
   "cell_type": "code",
   "execution_count": 77,
   "id": "5448d5a4-cd49-429f-864e-1089531e7ec9",
   "metadata": {},
   "outputs": [],
   "source": [
    "#somethingin = DieGame(5)\n",
    "#somethingin.magic(5)"
   ]
  },
  {
   "cell_type": "code",
   "execution_count": null,
   "id": "c27de75c-80d6-4e9f-8511-27c8b3301920",
   "metadata": {},
   "outputs": [],
   "source": []
  }
 ],
 "metadata": {
  "kernelspec": {
   "display_name": "Python 3 (ipykernel)",
   "language": "python",
   "name": "python3"
  },
  "language_info": {
   "codemirror_mode": {
    "name": "ipython",
    "version": 3
   },
   "file_extension": ".py",
   "mimetype": "text/x-python",
   "name": "python",
   "nbconvert_exporter": "python",
   "pygments_lexer": "ipython3",
   "version": "3.9.12"
  }
 },
 "nbformat": 4,
 "nbformat_minor": 5
}
