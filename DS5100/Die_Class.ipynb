{
 "cells": [
  {
   "cell_type": "code",
   "execution_count": 1,
   "id": "7b280fda-48ad-491d-bd52-3ce701d2fcb1",
   "metadata": {},
   "outputs": [],
   "source": [
    "import pandas as pd\n",
    "import numpy as np\n",
    "import math\n",
    "import os\n",
    "import random\n",
    "import seaborn as sns\n",
    "import unittest"
   ]
  },
  {
   "cell_type": "code",
   "execution_count": 77,
   "id": "da874603-f837-4924-92a7-b2053ed61d72",
   "metadata": {},
   "outputs": [],
   "source": [
    "class Die():\n",
    "        \n",
    "    #initiating faces and weights here \n",
    "    def __init__(self, faces):\n",
    "        self.faces = faces\n",
    "        self.weights = np.ones(len(faces))\n",
    "        self.df = pd.DataFrame({'faces': self.faces, 'weights':self.weights}) # dataframe with both faces and weights\n",
    "        self.my_probs = [i/sum(self.weights) for i in self.weights]\n",
    "        \n",
    "    def change_the_weight(self,new_face, new_weight):\n",
    "        test = self.df[self.df.faces == new_face] #is the input face in the dataframe or not\n",
    "        print(test)\n",
    "        \n",
    "        if new_face in list(self.df['faces']):\n",
    "            print('Good to go')\n",
    "        else:\n",
    "            print('Value did not pass') \n",
    "        \n",
    "        if (type(new_weight)) == int or float: #Checks to see if the weight is valid; is it a float? Can it be converted to one?\n",
    "            print('Good to go')\n",
    "        else:\n",
    "            print('Change to integer or float to continue')\n",
    "    \n",
    "    def roll(self, num_rolls = 1): #this is taking the argument of the number of rolls, defaulting to 1\n",
    "        results = [] # empty list of results to populate\n",
    "        for i in range(num_rolls): #looping through the number of times the die is rolled\n",
    "            result = self.df.faces.sample(weights = self.my_probs).values[0] #need faces and weights in here to create a single result \n",
    "            results.append(result) #then appending that result to the blank results list\n",
    "        return results\n",
    "    \n",
    "    def show(self):\n",
    "        print(self.df)"
   ]
  },
  {
   "cell_type": "code",
   "execution_count": 78,
   "id": "fc5a63ea-71db-47a6-9d0e-877d36632a69",
   "metadata": {},
   "outputs": [
    {
     "name": "stdout",
     "output_type": "stream",
     "text": [
      "   faces  weights\n",
      "0      1      1.0\n",
      "Good to go\n",
      "Good to go\n",
      "   faces  weights\n",
      "0      1      1.0\n",
      "1      2      1.0\n",
      "2      3      1.0\n",
      "3      4      1.0\n"
     ]
    }
   ],
   "source": [
    "somethingin = Die([1,2,3,4])\n",
    "somethingin.change_the_weight(1,1.0)\n",
    "#somethingin.df['faces']\n",
    "somethingin.roll(1)\n",
    "somethingin.show()"
   ]
  },
  {
   "cell_type": "code",
   "execution_count": null,
   "id": "bfc3c8ec-d8f4-4ca5-b3a2-ee3ac684030b",
   "metadata": {},
   "outputs": [],
   "source": [
    "        def create_die(self): #want to be able to change each of the wieghts \n",
    "        self.n_sides = len(self.weights) #right now the number of sides is determined by the length of weights, which works\n",
    "        self.my_probs = [i/sum(self.weights) for i in self.weights] # outputting probably by going through each of the items in weights\n",
    "        self.die = pd.DataFrame({\n",
    "            'n_sides': range(1, self.n_sides + 1), #the range of sides is from 1 to the length of weights + 1, to make it more legible\n",
    "            'weights': self.my_probs\n",
    "        })\n",
    "    \n",
    "    def roll_die(self): #right now we are saying 1 roll, but we can make n_rolls = 10000\n",
    "        results = [] # empty list of results to populate\n",
    "        for i in range(self.n_rolls):\n",
    "            result = self.die.n_sides.sample(weights=self.die.weights).values[0]\n",
    "            results.append(result) #filling up the results list with the number of rolls \n",
    "        self.results = pd.Series(results) #making the list into a Series         "
   ]
  }
 ],
 "metadata": {
  "kernelspec": {
   "display_name": "Python 3 (ipykernel)",
   "language": "python",
   "name": "python3"
  },
  "language_info": {
   "codemirror_mode": {
    "name": "ipython",
    "version": 3
   },
   "file_extension": ".py",
   "mimetype": "text/x-python",
   "name": "python",
   "nbconvert_exporter": "python",
   "pygments_lexer": "ipython3",
   "version": "3.9.12"
  }
 },
 "nbformat": 4,
 "nbformat_minor": 5
}
