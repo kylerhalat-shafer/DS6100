{
 "cells": [
  {
   "cell_type": "markdown",
   "id": "9ea424bf-3f24-4552-bd3a-02e2a2a43b6d",
   "metadata": {},
   "source": [
    "# Final Project for DS5100\n",
    "## Student: Kyler Halat-Shafer\n",
    "## User ID: uxt5qb"
   ]
  },
  {
   "cell_type": "code",
   "execution_count": 1,
   "id": "be7d0c64-c30c-4aa2-851e-a37650f021eb",
   "metadata": {},
   "outputs": [],
   "source": [
    "import pandas as pd\n",
    "import numpy as np\n",
    "import math\n",
    "import os\n",
    "import random\n",
    "import seaborn as sns\n",
    "import unittest"
   ]
  },
  {
   "cell_type": "markdown",
   "id": "2179d777-cc21-4abc-ab7a-8866463e9add",
   "metadata": {},
   "source": [
    "### Important Information about the project:\n",
    "\n",
    "In this project you write, package, and publish a Python module and accompanying files. The project will implement a simple Monte Carlo simulator using a set of related classes.\n",
    "\n",
    "#### Requirements\n",
    "\n",
    "You write three classes that will work in tandem to generate various outcomes.\n",
    "\n",
    "- A Die class\n",
    "- A Game class\n",
    "- An Analyzer class\n",
    "\n",
    "In addition, you will write unit tests, a scenario script, and documentation for these classes.\n",
    "\n",
    "Note: You will put all three classes in a single file called montecarlo.py and the unit tests in a file called montecarlo_tests.py. The scenario script will be put into a Jupyter Notebook called montecarlo_demo.ipynb."
   ]
  },
  {
   "cell_type": "markdown",
   "id": "22fd1734-93b8-4650-bdf1-d36e90c65355",
   "metadata": {},
   "source": [
    "### A Die Class"
   ]
  },
  {
   "cell_type": "markdown",
   "id": "3618bab5-a812-48ae-a117-f0a53ca60fb0",
   "metadata": {},
   "source": [
    "Required scenarios:\n",
    "- Two headed coin\n",
    "- 6 sided die\n",
    "- 26 lettered alphabet"
   ]
  },
  {
   "cell_type": "code",
   "execution_count": 183,
   "id": "640d5155-a7ce-4089-911f-ec222caae8b5",
   "metadata": {},
   "outputs": [],
   "source": [
    "class Die():\n",
    "    \n",
    "    def __init__(self, faces):\n",
    "        self.faces = faces #making the faces the length of the weights\n",
    "        self.weights = np.ones(len(faces)) #defining the weights \n",
    "        self.df = pd.DataFrame({'faces': self.faces, 'weights':self.weights}) # dataframe with both faces and weights\n",
    "        print(self.df)\n",
    "        \n",
    "    def change_the_weight(self,new_face, new_weight):\n",
    "        \n",
    "        if new_face not in list(self.df['faces']):\n",
    "            print('Value did not pass')\n",
    "        else:\n",
    "            if (type(new_weight)) not in [int,float]:\n",
    "                print('Change to integer or float to continue')\n",
    "            else:\n",
    "                self.df.loc[self.df.faces == new_face, 'weights'] = new_weight\n",
    "        \n",
    "    def roll(self, num_rolls = 1): #this is taking the argument of the number of rolls, defaulting to 1\n",
    "        results = [] \n",
    "        #my_probs = [i/sum(self.weights) for i in self.weights] \n",
    "        for i in range(num_rolls): \n",
    "            result = self.df.faces.sample(weights = self.df['weights']).values[0] \n",
    "            results.append(result)\n",
    "        return print(results)\n",
    "    \n",
    "    def show(self):\n",
    "        print('The current state faces and weights:') \n",
    "        return self.df"
   ]
  },
  {
   "cell_type": "code",
   "execution_count": 184,
   "id": "baad92ca-5feb-4d30-90bd-e3f91808bfbd",
   "metadata": {},
   "outputs": [
    {
     "name": "stdout",
     "output_type": "stream",
     "text": [
      "   faces  weights\n",
      "0      1      1.0\n",
      "1      2      1.0\n",
      "2      3      1.0\n",
      "3      4      1.0\n",
      "4      5      1.0\n",
      "5      6      1.0\n"
     ]
    }
   ],
   "source": [
    "d = Die([1,2,3,4,5,6])"
   ]
  },
  {
   "cell_type": "code",
   "execution_count": 185,
   "id": "784f3d5c-84df-4365-a1bb-18f12f169185",
   "metadata": {},
   "outputs": [],
   "source": [
    "d.change_the_weight(5,6)"
   ]
  },
  {
   "cell_type": "code",
   "execution_count": 186,
   "id": "f11a724f-3e3b-4105-8c02-ba016a962b85",
   "metadata": {},
   "outputs": [
    {
     "data": {
      "text/html": [
       "<div>\n",
       "<style scoped>\n",
       "    .dataframe tbody tr th:only-of-type {\n",
       "        vertical-align: middle;\n",
       "    }\n",
       "\n",
       "    .dataframe tbody tr th {\n",
       "        vertical-align: top;\n",
       "    }\n",
       "\n",
       "    .dataframe thead th {\n",
       "        text-align: right;\n",
       "    }\n",
       "</style>\n",
       "<table border=\"1\" class=\"dataframe\">\n",
       "  <thead>\n",
       "    <tr style=\"text-align: right;\">\n",
       "      <th></th>\n",
       "      <th>faces</th>\n",
       "      <th>weights</th>\n",
       "    </tr>\n",
       "  </thead>\n",
       "  <tbody>\n",
       "    <tr>\n",
       "      <th>0</th>\n",
       "      <td>1</td>\n",
       "      <td>1.0</td>\n",
       "    </tr>\n",
       "    <tr>\n",
       "      <th>1</th>\n",
       "      <td>2</td>\n",
       "      <td>1.0</td>\n",
       "    </tr>\n",
       "    <tr>\n",
       "      <th>2</th>\n",
       "      <td>3</td>\n",
       "      <td>1.0</td>\n",
       "    </tr>\n",
       "    <tr>\n",
       "      <th>3</th>\n",
       "      <td>4</td>\n",
       "      <td>1.0</td>\n",
       "    </tr>\n",
       "    <tr>\n",
       "      <th>4</th>\n",
       "      <td>5</td>\n",
       "      <td>6.0</td>\n",
       "    </tr>\n",
       "    <tr>\n",
       "      <th>5</th>\n",
       "      <td>6</td>\n",
       "      <td>1.0</td>\n",
       "    </tr>\n",
       "  </tbody>\n",
       "</table>\n",
       "</div>"
      ],
      "text/plain": [
       "   faces  weights\n",
       "0      1      1.0\n",
       "1      2      1.0\n",
       "2      3      1.0\n",
       "3      4      1.0\n",
       "4      5      6.0\n",
       "5      6      1.0"
      ]
     },
     "execution_count": 186,
     "metadata": {},
     "output_type": "execute_result"
    }
   ],
   "source": [
    "d.df"
   ]
  },
  {
   "cell_type": "code",
   "execution_count": 187,
   "id": "b517f72f-d131-40ab-bee5-209cbe2f1c9b",
   "metadata": {},
   "outputs": [
    {
     "name": "stdout",
     "output_type": "stream",
     "text": [
      "[5, 5, 3, 5, 5, 5, 5, 5, 2, 4, 3, 5, 6, 6, 5, 5, 5, 5, 5, 6, 2, 1, 2, 1, 5, 5, 4, 6, 5, 1, 3, 6, 5, 3, 5, 1, 5, 5, 3, 5, 1, 5, 5, 5, 5, 1, 2, 3, 5, 5, 5, 2, 4, 3, 1, 2, 6, 5, 3, 5, 3, 1, 5, 5, 2, 4, 2, 6, 2, 5, 5, 2, 5, 4, 3, 5, 5, 5, 5, 3, 5, 3, 5, 5, 5, 2, 5, 2, 5, 5, 3, 5, 2, 5, 5, 2, 1, 5, 6, 5]\n"
     ]
    }
   ],
   "source": [
    "d.roll(100)"
   ]
  },
  {
   "cell_type": "code",
   "execution_count": 188,
   "id": "f6dd767c-faff-402f-8c4f-3f38412e1630",
   "metadata": {},
   "outputs": [
    {
     "name": "stdout",
     "output_type": "stream",
     "text": [
      "The current state faces and weights:\n"
     ]
    },
    {
     "data": {
      "text/html": [
       "<div>\n",
       "<style scoped>\n",
       "    .dataframe tbody tr th:only-of-type {\n",
       "        vertical-align: middle;\n",
       "    }\n",
       "\n",
       "    .dataframe tbody tr th {\n",
       "        vertical-align: top;\n",
       "    }\n",
       "\n",
       "    .dataframe thead th {\n",
       "        text-align: right;\n",
       "    }\n",
       "</style>\n",
       "<table border=\"1\" class=\"dataframe\">\n",
       "  <thead>\n",
       "    <tr style=\"text-align: right;\">\n",
       "      <th></th>\n",
       "      <th>faces</th>\n",
       "      <th>weights</th>\n",
       "    </tr>\n",
       "  </thead>\n",
       "  <tbody>\n",
       "    <tr>\n",
       "      <th>0</th>\n",
       "      <td>1</td>\n",
       "      <td>1.0</td>\n",
       "    </tr>\n",
       "    <tr>\n",
       "      <th>1</th>\n",
       "      <td>2</td>\n",
       "      <td>1.0</td>\n",
       "    </tr>\n",
       "    <tr>\n",
       "      <th>2</th>\n",
       "      <td>3</td>\n",
       "      <td>1.0</td>\n",
       "    </tr>\n",
       "    <tr>\n",
       "      <th>3</th>\n",
       "      <td>4</td>\n",
       "      <td>1.0</td>\n",
       "    </tr>\n",
       "    <tr>\n",
       "      <th>4</th>\n",
       "      <td>5</td>\n",
       "      <td>6.0</td>\n",
       "    </tr>\n",
       "    <tr>\n",
       "      <th>5</th>\n",
       "      <td>6</td>\n",
       "      <td>1.0</td>\n",
       "    </tr>\n",
       "  </tbody>\n",
       "</table>\n",
       "</div>"
      ],
      "text/plain": [
       "   faces  weights\n",
       "0      1      1.0\n",
       "1      2      1.0\n",
       "2      3      1.0\n",
       "3      4      1.0\n",
       "4      5      6.0\n",
       "5      6      1.0"
      ]
     },
     "execution_count": 188,
     "metadata": {},
     "output_type": "execute_result"
    }
   ],
   "source": [
    "d.show()"
   ]
  },
  {
   "cell_type": "code",
   "execution_count": 13,
   "id": "656b1b19-8400-4273-a150-15abc8bb7ed1",
   "metadata": {},
   "outputs": [
    {
     "name": "stdout",
     "output_type": "stream",
     "text": [
      "[4, 1, 4, 6, 2, 2, 4, 6, 6, 6]\n"
     ]
    }
   ],
   "source": [
    "d2.roll(10)"
   ]
  },
  {
   "cell_type": "code",
   "execution_count": 14,
   "id": "01be0a00-cf98-4bac-b92c-de2e9a08875a",
   "metadata": {},
   "outputs": [
    {
     "name": "stdout",
     "output_type": "stream",
     "text": [
      "   new_face  new_weight\n",
      "0         1           1\n",
      "1         2           1\n",
      "2         3           1\n",
      "3         4           1\n",
      "4         5           1\n",
      "5         6           5\n",
      "Good to go\n",
      "Good to go\n"
     ]
    }
   ],
   "source": [
    "d2.change_the_weight([1,2,3,4,5,6],[1,1,1,1,1,5])"
   ]
  },
  {
   "cell_type": "code",
   "execution_count": 11,
   "id": "56db07b0-1e43-4755-8053-2d456bbe5be2",
   "metadata": {},
   "outputs": [
    {
     "name": "stdout",
     "output_type": "stream",
     "text": [
      "This is the original faces and weights:\n",
      "   faces  weights\n",
      "0      1        1\n",
      "1      2        1\n",
      "2      3        1\n",
      "3      4        1\n",
      "4      5        1\n",
      "5      6        5\n"
     ]
    }
   ],
   "source": [
    "d2.show()"
   ]
  },
  {
   "cell_type": "markdown",
   "id": "54d579a5-cd68-4b26-9713-06ec7ca92cc8",
   "metadata": {},
   "source": [
    "Notes:\n",
    "- Currently my Die class does not take in anything but a list of numbers, converting letters to float, did not work, this will need to be resolved. You can manually convert strings to floats, inputting 1,2 for heads and tails. Then doing the same thing with the alphabet. To parse a string such as '1' to equal 1 as a float does work\n",
    "- Do I need two seperate result areas, one for the weighted and one for the unweighted in the Die class? "
   ]
  },
  {
   "cell_type": "markdown",
   "id": "33973c5d-83ef-4c8f-936d-15f1a3094eb0",
   "metadata": {},
   "source": [
    "### A Game Class"
   ]
  },
  {
   "cell_type": "code",
   "execution_count": 148,
   "id": "10b5134c-8d81-422c-91c2-89f14579a688",
   "metadata": {},
   "outputs": [],
   "source": [
    "# Once the number of rolls, number of sides, and its weights are created in the first class, we then take that class \n",
    "# bring those 3 pieces of information into this game class, to choose how many dice will then be rolled \n",
    "\n",
    "class DieGame():\n",
    "    \n",
    "    def __init__(self,dice):\n",
    "        self.dice = dice #this will call on d and d2 which are objects that I created\n",
    "        \n",
    "        #Takes a single parameter, a list of already instantiated similar Die objects\n",
    "        \n",
    "    def play(self,n_rolls = 1):\n",
    "        self.n_rolls = n_rolls \n",
    "        \n",
    "        roll_results = []\n",
    "        for die in self.dice: #for each die in dice\n",
    "            roll = d.roll(self.n_rolls) #this is calling the object that you have created, rolling the die is always the same\n",
    "            roll_results.append(roll)\n",
    "            #playdf = pd.DataFrame(roll_results, columns = [self.dice], index = [self.n_rolls]) #this is giving me a blank data frame"
   ]
  },
  {
   "cell_type": "code",
   "execution_count": 149,
   "id": "3e409903-7ceb-497d-a4ee-e4ff90decc4e",
   "metadata": {},
   "outputs": [
    {
     "name": "stdout",
     "output_type": "stream",
     "text": [
      "[3, 3, 2, 3, 4, 2, 4, 6, 3, 6, 1, 3, 3, 2, 3]\n",
      "[6, 5, 2, 5, 6, 3, 5, 3, 6, 4, 2, 4, 4, 6, 2]\n"
     ]
    }
   ],
   "source": [
    "game = DieGame([d,d2])\n",
    "game.play(15)\n",
    "#game.playdf"
   ]
  },
  {
   "cell_type": "code",
   "execution_count": 161,
   "id": "97e3bb16-c473-4459-8bc8-640f18de2b55",
   "metadata": {},
   "outputs": [],
   "source": [
    "# Once the number of rolls, number of sides, and its weights are created in the first class, we then take that class \n",
    "# bring those 3 pieces of information into this game class, to choose how many dice will then be rolled \n",
    "\n",
    "class DieGame1():\n",
    "    \n",
    "    def __init__(self,dice):\n",
    "        self.dice = dice #this will call on d and d2 which are objects that I created\n",
    "        \n",
    "        #Takes a single parameter, a list of already instantiated similar Die objects\n",
    "        \n",
    "    def play(self,n_rolls = 1):\n",
    "        self.n_rolls = n_rolls \n",
    "        \n",
    "        roll_results = []\n",
    "        for die in self.dice: #for each die in dice\n",
    "            df1 = pd.DataFrame({'Rolls':['1','2'],'Dice':['D1','D2'],}).set_index('Rolls')\n",
    "            roll = d.roll(self.n_rolls) #this is calling the object that you have created, rolling the die is always the same\n",
    "            roll_results.append(roll)\n",
    "        roll_results = pd.concat(roll_results, axis=1)\n",
    "        print(roll_results)\n",
    "        \n",
    "            #playdf = pd.DataFrame(roll_results, columns = [self.dice], index = [self.n_rolls]) #this is giving me a blank data frame"
   ]
  },
  {
   "cell_type": "code",
   "execution_count": 162,
   "id": "241e614e-159e-4cc3-9f70-0e8ce0077e4b",
   "metadata": {},
   "outputs": [
    {
     "name": "stdout",
     "output_type": "stream",
     "text": [
      "[4, 1, 4]\n",
      "[1, 3, 2]\n"
     ]
    },
    {
     "ename": "ValueError",
     "evalue": "All objects passed were None",
     "output_type": "error",
     "traceback": [
      "\u001b[0;31m---------------------------------------------------------------------------\u001b[0m",
      "\u001b[0;31mValueError\u001b[0m                                Traceback (most recent call last)",
      "Input \u001b[0;32mIn [162]\u001b[0m, in \u001b[0;36m<cell line: 2>\u001b[0;34m()\u001b[0m\n\u001b[1;32m      1\u001b[0m game \u001b[38;5;241m=\u001b[39m DieGame1([d,d2])\n\u001b[0;32m----> 2\u001b[0m \u001b[43mgame\u001b[49m\u001b[38;5;241;43m.\u001b[39;49m\u001b[43mplay\u001b[49m\u001b[43m(\u001b[49m\u001b[38;5;241;43m3\u001b[39;49m\u001b[43m)\u001b[49m\n",
      "Input \u001b[0;32mIn [161]\u001b[0m, in \u001b[0;36mDieGame1.play\u001b[0;34m(self, n_rolls)\u001b[0m\n\u001b[1;32m     17\u001b[0m     roll \u001b[38;5;241m=\u001b[39m d\u001b[38;5;241m.\u001b[39mroll(\u001b[38;5;28mself\u001b[39m\u001b[38;5;241m.\u001b[39mn_rolls) \u001b[38;5;66;03m#this is calling the object that you have created, rolling the die is always the same\u001b[39;00m\n\u001b[1;32m     18\u001b[0m     roll_results\u001b[38;5;241m.\u001b[39mappend(roll)\n\u001b[0;32m---> 19\u001b[0m roll_results \u001b[38;5;241m=\u001b[39m \u001b[43mpd\u001b[49m\u001b[38;5;241;43m.\u001b[39;49m\u001b[43mconcat\u001b[49m\u001b[43m(\u001b[49m\u001b[43mroll_results\u001b[49m\u001b[43m,\u001b[49m\u001b[43m \u001b[49m\u001b[43maxis\u001b[49m\u001b[38;5;241;43m=\u001b[39;49m\u001b[38;5;241;43m1\u001b[39;49m\u001b[43m)\u001b[49m\n\u001b[1;32m     20\u001b[0m \u001b[38;5;28mprint\u001b[39m(roll_results)\n",
      "File \u001b[0;32m~/opt/anaconda3/lib/python3.9/site-packages/pandas/util/_decorators.py:311\u001b[0m, in \u001b[0;36mdeprecate_nonkeyword_arguments.<locals>.decorate.<locals>.wrapper\u001b[0;34m(*args, **kwargs)\u001b[0m\n\u001b[1;32m    305\u001b[0m \u001b[38;5;28;01mif\u001b[39;00m \u001b[38;5;28mlen\u001b[39m(args) \u001b[38;5;241m>\u001b[39m num_allow_args:\n\u001b[1;32m    306\u001b[0m     warnings\u001b[38;5;241m.\u001b[39mwarn(\n\u001b[1;32m    307\u001b[0m         msg\u001b[38;5;241m.\u001b[39mformat(arguments\u001b[38;5;241m=\u001b[39marguments),\n\u001b[1;32m    308\u001b[0m         \u001b[38;5;167;01mFutureWarning\u001b[39;00m,\n\u001b[1;32m    309\u001b[0m         stacklevel\u001b[38;5;241m=\u001b[39mstacklevel,\n\u001b[1;32m    310\u001b[0m     )\n\u001b[0;32m--> 311\u001b[0m \u001b[38;5;28;01mreturn\u001b[39;00m \u001b[43mfunc\u001b[49m\u001b[43m(\u001b[49m\u001b[38;5;241;43m*\u001b[39;49m\u001b[43margs\u001b[49m\u001b[43m,\u001b[49m\u001b[43m \u001b[49m\u001b[38;5;241;43m*\u001b[39;49m\u001b[38;5;241;43m*\u001b[39;49m\u001b[43mkwargs\u001b[49m\u001b[43m)\u001b[49m\n",
      "File \u001b[0;32m~/opt/anaconda3/lib/python3.9/site-packages/pandas/core/reshape/concat.py:347\u001b[0m, in \u001b[0;36mconcat\u001b[0;34m(objs, axis, join, ignore_index, keys, levels, names, verify_integrity, sort, copy)\u001b[0m\n\u001b[1;32m    143\u001b[0m \u001b[38;5;129m@deprecate_nonkeyword_arguments\u001b[39m(version\u001b[38;5;241m=\u001b[39m\u001b[38;5;28;01mNone\u001b[39;00m, allowed_args\u001b[38;5;241m=\u001b[39m[\u001b[38;5;124m\"\u001b[39m\u001b[38;5;124mobjs\u001b[39m\u001b[38;5;124m\"\u001b[39m])\n\u001b[1;32m    144\u001b[0m \u001b[38;5;28;01mdef\u001b[39;00m \u001b[38;5;21mconcat\u001b[39m(\n\u001b[1;32m    145\u001b[0m     objs: Iterable[NDFrame] \u001b[38;5;241m|\u001b[39m Mapping[Hashable, NDFrame],\n\u001b[0;32m   (...)\u001b[0m\n\u001b[1;32m    154\u001b[0m     copy: \u001b[38;5;28mbool\u001b[39m \u001b[38;5;241m=\u001b[39m \u001b[38;5;28;01mTrue\u001b[39;00m,\n\u001b[1;32m    155\u001b[0m ) \u001b[38;5;241m-\u001b[39m\u001b[38;5;241m>\u001b[39m DataFrame \u001b[38;5;241m|\u001b[39m Series:\n\u001b[1;32m    156\u001b[0m     \u001b[38;5;124;03m\"\"\"\u001b[39;00m\n\u001b[1;32m    157\u001b[0m \u001b[38;5;124;03m    Concatenate pandas objects along a particular axis with optional set logic\u001b[39;00m\n\u001b[1;32m    158\u001b[0m \u001b[38;5;124;03m    along the other axes.\u001b[39;00m\n\u001b[0;32m   (...)\u001b[0m\n\u001b[1;32m    345\u001b[0m \u001b[38;5;124;03m    ValueError: Indexes have overlapping values: ['a']\u001b[39;00m\n\u001b[1;32m    346\u001b[0m \u001b[38;5;124;03m    \"\"\"\u001b[39;00m\n\u001b[0;32m--> 347\u001b[0m     op \u001b[38;5;241m=\u001b[39m \u001b[43m_Concatenator\u001b[49m\u001b[43m(\u001b[49m\n\u001b[1;32m    348\u001b[0m \u001b[43m        \u001b[49m\u001b[43mobjs\u001b[49m\u001b[43m,\u001b[49m\n\u001b[1;32m    349\u001b[0m \u001b[43m        \u001b[49m\u001b[43maxis\u001b[49m\u001b[38;5;241;43m=\u001b[39;49m\u001b[43maxis\u001b[49m\u001b[43m,\u001b[49m\n\u001b[1;32m    350\u001b[0m \u001b[43m        \u001b[49m\u001b[43mignore_index\u001b[49m\u001b[38;5;241;43m=\u001b[39;49m\u001b[43mignore_index\u001b[49m\u001b[43m,\u001b[49m\n\u001b[1;32m    351\u001b[0m \u001b[43m        \u001b[49m\u001b[43mjoin\u001b[49m\u001b[38;5;241;43m=\u001b[39;49m\u001b[43mjoin\u001b[49m\u001b[43m,\u001b[49m\n\u001b[1;32m    352\u001b[0m \u001b[43m        \u001b[49m\u001b[43mkeys\u001b[49m\u001b[38;5;241;43m=\u001b[39;49m\u001b[43mkeys\u001b[49m\u001b[43m,\u001b[49m\n\u001b[1;32m    353\u001b[0m \u001b[43m        \u001b[49m\u001b[43mlevels\u001b[49m\u001b[38;5;241;43m=\u001b[39;49m\u001b[43mlevels\u001b[49m\u001b[43m,\u001b[49m\n\u001b[1;32m    354\u001b[0m \u001b[43m        \u001b[49m\u001b[43mnames\u001b[49m\u001b[38;5;241;43m=\u001b[39;49m\u001b[43mnames\u001b[49m\u001b[43m,\u001b[49m\n\u001b[1;32m    355\u001b[0m \u001b[43m        \u001b[49m\u001b[43mverify_integrity\u001b[49m\u001b[38;5;241;43m=\u001b[39;49m\u001b[43mverify_integrity\u001b[49m\u001b[43m,\u001b[49m\n\u001b[1;32m    356\u001b[0m \u001b[43m        \u001b[49m\u001b[43mcopy\u001b[49m\u001b[38;5;241;43m=\u001b[39;49m\u001b[43mcopy\u001b[49m\u001b[43m,\u001b[49m\n\u001b[1;32m    357\u001b[0m \u001b[43m        \u001b[49m\u001b[43msort\u001b[49m\u001b[38;5;241;43m=\u001b[39;49m\u001b[43msort\u001b[49m\u001b[43m,\u001b[49m\n\u001b[1;32m    358\u001b[0m \u001b[43m    \u001b[49m\u001b[43m)\u001b[49m\n\u001b[1;32m    360\u001b[0m     \u001b[38;5;28;01mreturn\u001b[39;00m op\u001b[38;5;241m.\u001b[39mget_result()\n",
      "File \u001b[0;32m~/opt/anaconda3/lib/python3.9/site-packages/pandas/core/reshape/concat.py:427\u001b[0m, in \u001b[0;36m_Concatenator.__init__\u001b[0;34m(self, objs, axis, join, keys, levels, names, ignore_index, verify_integrity, copy, sort)\u001b[0m\n\u001b[1;32m    424\u001b[0m         keys \u001b[38;5;241m=\u001b[39m Index(clean_keys, name\u001b[38;5;241m=\u001b[39mname)\n\u001b[1;32m    426\u001b[0m \u001b[38;5;28;01mif\u001b[39;00m \u001b[38;5;28mlen\u001b[39m(objs) \u001b[38;5;241m==\u001b[39m \u001b[38;5;241m0\u001b[39m:\n\u001b[0;32m--> 427\u001b[0m     \u001b[38;5;28;01mraise\u001b[39;00m \u001b[38;5;167;01mValueError\u001b[39;00m(\u001b[38;5;124m\"\u001b[39m\u001b[38;5;124mAll objects passed were None\u001b[39m\u001b[38;5;124m\"\u001b[39m)\n\u001b[1;32m    429\u001b[0m \u001b[38;5;66;03m# figure out what our result ndim is going to be\u001b[39;00m\n\u001b[1;32m    430\u001b[0m ndims \u001b[38;5;241m=\u001b[39m \u001b[38;5;28mset\u001b[39m()\n",
      "\u001b[0;31mValueError\u001b[0m: All objects passed were None"
     ]
    }
   ],
   "source": [
    "game = DieGame1([d,d2])\n",
    "game.play(3)\n",
    "#game.playdf"
   ]
  },
  {
   "cell_type": "markdown",
   "id": "c608342d-10e6-4dbb-83a5-07caafaae7ec",
   "metadata": {},
   "source": [
    "### An Analyzer Class"
   ]
  },
  {
   "cell_type": "code",
   "execution_count": null,
   "id": "9a9c7fdd-18c2-43ab-a1ce-9f71f63e83b9",
   "metadata": {},
   "outputs": [],
   "source": [
    "class Analyzer (): \n",
    "    \n",
    "    def __init__(self,):#<-- game object as an input parameter, as in d \n",
    "    # dtype(self.faces)\n",
    "    # At initialization time, it also infers the data type of the die faces used.\n",
    "    \n",
    "    def jackpot(self,):\n",
    "    DieGame\n",
    "    # how many times the game resulted in all faces being identical.\n",
    "    # need to look at the dataframe that is built, to see the log of each game\n",
    "    # if there are more than 1 die, columns number of die, rows rolls\n",
    "    # for faces in columns, if each element = element across the full set of columns -- jackpot\n",
    "    # df = pd.DataFrame({'roll_number': self.roll_number, 'face_values': self.face_values}) if face_values are identical\n",
    "    \n",
    "    def combo(self,):\n",
    "    #the distinct combinations of faces rolled, along with their counts.\n",
    "    # if they're saved in a data frame we have number of dice as columns, number of times as the rows, with faces as elements\n",
    "    # if you can return the pd.unique, then use count() -- maybe nunique --> groupby function (faces) \n",
    "    \n",
    "    def face_counts(self,):\n",
    "    # how many times a given face is rolled in each event.\n",
    "    # for roll count(self.face_values)\n",
    "    # df = pd.DataFrame({'roll_number': self.roll_number, 'face_values': self.face_values})"
   ]
  },
  {
   "cell_type": "markdown",
   "id": "6a08e3f2-0424-4dcf-8b8d-7e498a4e2bba",
   "metadata": {},
   "source": [
    "### Unit Testing"
   ]
  },
  {
   "cell_type": "code",
   "execution_count": 48,
   "id": "04e3845b-ce86-46a2-9087-8abac24cc0d9",
   "metadata": {},
   "outputs": [],
   "source": [
    "#import unittest\n",
    "#import pandas as pd\n",
    "#import numpy as np\n",
    "#from module import Die\n",
    "#from module import DieGame\n",
    "#from module import Analyzer"
   ]
  },
  {
   "cell_type": "code",
   "execution_count": null,
   "id": "784282de-df3f-4421-bfde-82fad3787420",
   "metadata": {},
   "outputs": [],
   "source": [
    "# Each method in each class should have unit tests to test if the methods receive the correct inputs and return valid outputs\n",
    "\n",
    "class DieGameTestSuite(unittest.TestCase):\n",
    "\n",
    "    n_sides = 6\n",
    "    weights = [1,1,1,1,1,1] #This is producing a fair game, where each weight is equal to 1 \n",
    "    df = pd.DataFrame({'n_sides':[], 'weights':[]}) # dataframe with both n_sides and weights\n",
    "    df2 = pd.DataFrame({'num_rolls':[], 'num_dice':[]})\n",
    "    \n",
    "    def test_changing_weight(self): \n",
    "        testing = Die()\n",
    "    #Is the face that passed in the array of weights?\n",
    "\n",
    "    def test_roll(self):\n",
    "        testing = Die()\n",
    "    # Does it take in how many times the die is to be rolled? Does this return a list of outcomes? \n",
    "    \n",
    "    def test_show(self):\n",
    "        testing = Die()\n",
    "    # Does this show the current set of faces and weights? \n",
    "    # use a regular die\n",
    "\n",
    "    def test_play(self): \n",
    "        testing = DieGame()\n",
    "    # Does it create a table where the columns are roll number, the die number is the row, and the element is the face?\n",
    "                        \n",
    "    def test_display(self):\n",
    "        testing = DieGame()\n",
    "    # Is a narrow and a wide dataframe able to be created?\n",
    "    # use a regular die\n",
    "        \n",
    "    def test_jackpot(self):\n",
    "        testing = Analyzer()\n",
    "    # Check the dataframe that is created if all face_values are identical\n",
    "    # use a game where both face values on the die are the same to see if it works \n",
    "    \n",
    "    def test_combo(self):\n",
    "        testing = Analyzer()\n",
    "    # Check the dataframe that is created if all paired face_values are unique\n",
    "    # use a regular die\n",
    "    \n",
    "    def test_face_count(self):\n",
    "        testing = Analyzer()\n",
    "    # Check the dataframe that your face_count is saved\n",
    "    # use a regular die"
   ]
  }
 ],
 "metadata": {
  "kernelspec": {
   "display_name": "Python 3 (ipykernel)",
   "language": "python",
   "name": "python3"
  },
  "language_info": {
   "codemirror_mode": {
    "name": "ipython",
    "version": 3
   },
   "file_extension": ".py",
   "mimetype": "text/x-python",
   "name": "python",
   "nbconvert_exporter": "python",
   "pygments_lexer": "ipython3",
   "version": "3.9.12"
  }
 },
 "nbformat": 4,
 "nbformat_minor": 5
}
