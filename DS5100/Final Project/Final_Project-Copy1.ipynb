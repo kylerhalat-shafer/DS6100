{
 "cells": [
  {
   "cell_type": "markdown",
   "id": "9ea424bf-3f24-4552-bd3a-02e2a2a43b6d",
   "metadata": {},
   "source": [
    "# Final Project for DS5100\n",
    "## Student: Kyler Halat-Shafer\n",
    "## User ID: uxt5qb"
   ]
  },
  {
   "cell_type": "code",
   "execution_count": 3,
   "id": "be7d0c64-c30c-4aa2-851e-a37650f021eb",
   "metadata": {},
   "outputs": [],
   "source": [
    "import pandas as pd\n",
    "import numpy as np\n",
    "import math\n",
    "import os\n",
    "import random\n",
    "import seaborn as sns\n",
    "import unittest"
   ]
  },
  {
   "cell_type": "markdown",
   "id": "2179d777-cc21-4abc-ab7a-8866463e9add",
   "metadata": {},
   "source": [
    "### Important Information about the project:\n",
    "\n",
    "In this project you write, package, and publish a Python module and accompanying files. The project will implement a simple Monte Carlo simulator using a set of related classes.\n",
    "\n",
    "#### Requirements\n",
    "\n",
    "You write three classes that will work in tandem to generate various outcomes.\n",
    "\n",
    "- A Die class\n",
    "- A Game class\n",
    "- An Analyzer class\n",
    "\n",
    "In addition, you will write unit tests, a scenario script, and documentation for these classes.\n",
    "\n",
    "Note: You will put all three classes in a single file called montecarlo.py and the unit tests in a file called montecarlo_tests.py. The scenario script will be put into a Jupyter Notebook called montecarlo_demo.ipynb."
   ]
  },
  {
   "cell_type": "markdown",
   "id": "22fd1734-93b8-4650-bdf1-d36e90c65355",
   "metadata": {},
   "source": [
    "### A Die Class"
   ]
  },
  {
   "cell_type": "markdown",
   "id": "3618bab5-a812-48ae-a117-f0a53ca60fb0",
   "metadata": {},
   "source": [
    "Required scenarios:\n",
    "- Two headed coin\n",
    "- 6 sided die\n",
    "- 26 lettered alphabet"
   ]
  },
  {
   "cell_type": "code",
   "execution_count": 60,
   "id": "640d5155-a7ce-4089-911f-ec222caae8b5",
   "metadata": {},
   "outputs": [],
   "source": [
    "class Die():\n",
    "\n",
    "    \n",
    "    def __init__(self, faces, weights = [1,1,1,1,1,1]):\n",
    "        self.faces = faces\n",
    "        self.weights = weights\n",
    "        self.df = pd.DataFrame({'faces': self.faces, 'weights':self.weights}) # dataframe with both faces and weights\n",
    "        #self.my_probs = [i/sum(self.weights) for i in self.weights]\n",
    "        \n",
    "    def change_the_weight(self,new_face, new_weight):\n",
    "        self.new_face = new_face\n",
    "        self.new_weight = new_weight\n",
    "        \n",
    "        test = self.df[self.df.faces == new_face] #is the input face in the dataframe or not\n",
    "        print(test)\n",
    "        \n",
    "        if new_face in list(self.df['faces']):\n",
    "            print('Good to go')\n",
    "        else:\n",
    "            print('Value did not pass') \n",
    "        \n",
    "        if (type(new_weight)) == int or float: #Checks to see if the weight is valid; is it a float? Can it be converted to one?\n",
    "            print('Good to go')\n",
    "        else:\n",
    "            print('Change to integer or float to continue')\n",
    "    \n",
    "    def roll(self, num_rolls = 1): #this is taking the argument of the number of rolls, defaulting to 1\n",
    "        results = [] # empty list of results to populate\n",
    "        for i in range(num_rolls): #looping through the number of times the die is rolled\n",
    "            result = self.df.faces.sample(weights = self.my_probs).values[0] #need faces and weights in here to create a single result \n",
    "            results.append(result) #then appending that result to the blank results list\n",
    "        return results\n",
    "    \n",
    "    def show(self):\n",
    "        print(self.df)"
   ]
  },
  {
   "cell_type": "code",
   "execution_count": 65,
   "id": "3fa9e5cf-2157-4100-90db-35338577493e",
   "metadata": {},
   "outputs": [
    {
     "name": "stdout",
     "output_type": "stream",
     "text": [
      "   faces  weights\n",
      "0      1        1\n",
      "1      2        1\n",
      "2      3        1\n",
      "3      4        1\n",
      "4      5        1\n",
      "5      6        1\n",
      "Value did not pass\n",
      "Good to go\n"
     ]
    }
   ],
   "source": [
    "# These are dice objects that are based on the first class\n",
    "d = Die([1,2,3,4,5,6],[1,1,1,1,1,1])\n",
    "d.change_the_weight([1,2,3,4,5,6],[1,1,1,1,1,1])"
   ]
  },
  {
   "cell_type": "code",
   "execution_count": 121,
   "id": "406d3001-f2dc-4bd5-8f8d-d8f2cb3b1704",
   "metadata": {},
   "outputs": [],
   "source": [
    "class Die1():\n",
    "    \n",
    "    weights =[1,1,1,1,1,1]\n",
    "    \n",
    "    def __init__(self, weights):\n",
    "        self.weights = weights #defining the weights\n",
    "        self.faces = len(self.weights) #making the faces the length of the weights\n",
    "        #self.my_probs = [i/sum(self.weights) for i in self.weights] #this creates a probability \n",
    "        self.df = pd.DataFrame({'faces': self.faces, 'weights':self.weights}) # dataframe with both faces and weights\n",
    "        \n",
    "    def change_the_weight(self,new_face, new_weight):\n",
    "        self.new_weight = new_weight\n",
    "        self.new_face = len(self.new_weight)\n",
    "        self.df2 = pd.DataFrame({'new_face': self.new_face, 'new_weight':self.new_weight})\n",
    "        \n",
    "        test2 = self.df2[self.df2.new_face == new_face] #is the input face in the dataframe or not\n",
    "        print(test2)\n",
    "        \n",
    "        if self.new_face in list(self.df2['new_face']):\n",
    "            print('Good to go')\n",
    "        else:\n",
    "            print('Value did not pass') \n",
    "        \n",
    "        if (type(new_weight)) == int or float: #Checks to see if the weight is valid; is it a float? Can it be converted to one?\n",
    "            print('Good to go')\n",
    "        else:\n",
    "            print('Change to integer or float to continue')\n",
    "    \n",
    "    def roll(self, num_rolls = 1): #this is taking the argument of the number of rolls, defaulting to 1\n",
    "        results = [] # empty list of results to populate\n",
    "        for i in range(num_rolls): #looping through the number of times the die is rolled\n",
    "            result = self.df.faces.sample(weights = self.weights).values[0] #need faces and weights in here to create a single result \n",
    "            results.append(result) #then appending that result to the blank results list\n",
    "        return results\n",
    "    \n",
    "    def show(self):\n",
    "        print('This is the original faces and weights:') \n",
    "        print(self.df)\n",
    "        print('This is the new faces and weights:') \n",
    "        print(self.df2)"
   ]
  },
  {
   "cell_type": "code",
   "execution_count": 124,
   "id": "4ea38fcb-78b4-42fd-9b04-fef9d9b1e460",
   "metadata": {},
   "outputs": [
    {
     "name": "stdout",
     "output_type": "stream",
     "text": [
      "Empty DataFrame\n",
      "Columns: [new_face, new_weight]\n",
      "Index: []\n",
      "Good to go\n",
      "Good to go\n"
     ]
    },
    {
     "data": {
      "text/plain": [
       "[2, 2, 2, 2, 2, 2, 2, 2, 2, 2]"
      ]
     },
     "execution_count": 124,
     "metadata": {},
     "output_type": "execute_result"
    }
   ],
   "source": [
    "# These are dice objects that are based on the first class\n",
    "d = Die1([0,1])\n",
    "d.change_the_weight([0,1],[1,5])\n",
    "d.roll(10)\n",
    "#d.show()"
   ]
  },
  {
   "cell_type": "code",
   "execution_count": null,
   "id": "cc3dabdc-6bd6-46d3-a879-9d140a598928",
   "metadata": {},
   "outputs": [],
   "source": [
    "class Die():\n",
    "    \n",
    "    weights =[1,1,1,1,1,1]\n",
    "    \n",
    "    def __init__(self, weights):\n",
    "        self.weights = weights #defining the weights\n",
    "        self.faces = len(self.weights) #making the faces the length of the weights\n",
    "        #self.my_probs = [i/sum(self.weights) for i in self.weights] #this creates a probability \n",
    "        self.df = pd.DataFrame({'faces': range(1, self.faces + 1), 'weights':self.weights}) # dataframe with both faces and weights\n",
    "        \n",
    "    def change_the_weight(self,new_face, new_weight):\n",
    "        self.new_weight = new_weight\n",
    "        self.new_face = len(self.new_weight)\n",
    "        self.df2 = pd.DataFrame({'new_face': range(1, self.new_face + 1), 'new_weight':self.new_weight})\n",
    "        \n",
    "        test2 = self.df2[self.df2.new_face == new_face] #is the input face in the dataframe or not\n",
    "        print(test2)\n",
    "        \n",
    "        if self.new_face in list(self.df2['new_face']):\n",
    "            print('Good to go')\n",
    "        else:\n",
    "            print('Value did not pass') \n",
    "        \n",
    "        if (type(new_weight)) == int or float: #Checks to see if the weight is valid; is it a float? Can it be converted to one?\n",
    "            print('Good to go')\n",
    "        else:\n",
    "            print('Change to integer or float to continue')\n",
    "    \n",
    "    def roll(self, num_rolls = 1): #this is taking the argument of the number of rolls, defaulting to 1\n",
    "        results = [] # empty list of results to populate\n",
    "        for i in range(num_rolls): #looping through the number of times the die is rolled\n",
    "            result = self.df.faces.sample(weights = self.weights).values[0] #need faces and weights in here to create a single result \n",
    "            results.append(result) #then appending that result to the blank results list\n",
    "        return results\n",
    "    \n",
    "        results2 = [] # empty list of results to populate\n",
    "        for i in range(num_rolls): #looping through the number of times the die is rolled\n",
    "            result2 = self.df2.new_face.sample(new_weight = self.new_weight).values[0] #need faces and weights in here to create a single result \n",
    "            results2.append(result2) #then appending that result to the blank results list\n",
    "        return results2\n",
    "    \n",
    "    def show(self):\n",
    "        print('This is the original faces and weights:') \n",
    "        print(self.df)\n",
    "        print('This is the new faces and weights:') \n",
    "        print(self.df2)"
   ]
  },
  {
   "cell_type": "code",
   "execution_count": 126,
   "id": "ca4ecc13-d920-4b55-b125-b68e1f5a6ad5",
   "metadata": {},
   "outputs": [],
   "source": [
    "class DieGame():\n",
    "    \n",
    "    def __init__(self,dice):\n",
    "        self.dice = dice #an array of die, because a dice can be [1,2,3,4]\n",
    "        #Takes a single parameter, a list of already instantiated similar Die objects"
   ]
  },
  {
   "cell_type": "code",
   "execution_count": null,
   "id": "2fa642e3-a4fa-478e-8b52-82f5b85708eb",
   "metadata": {},
   "outputs": [],
   "source": []
  }
 ],
 "metadata": {
  "kernelspec": {
   "display_name": "Python 3 (ipykernel)",
   "language": "python",
   "name": "python3"
  },
  "language_info": {
   "codemirror_mode": {
    "name": "ipython",
    "version": 3
   },
   "file_extension": ".py",
   "mimetype": "text/x-python",
   "name": "python",
   "nbconvert_exporter": "python",
   "pygments_lexer": "ipython3",
   "version": "3.9.12"
  }
 },
 "nbformat": 4,
 "nbformat_minor": 5
}
