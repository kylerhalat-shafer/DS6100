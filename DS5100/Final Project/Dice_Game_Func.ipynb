{
 "cells": [
  {
   "cell_type": "code",
   "execution_count": 1,
   "id": "9347414b-5bd7-4772-b367-06a87989a163",
   "metadata": {},
   "outputs": [],
   "source": [
    "import pandas as pd\n",
    "import numpy as np\n",
    "import random"
   ]
  },
  {
   "cell_type": "code",
   "execution_count": 3,
   "id": "99d4e76f-9d78-4f11-958c-2a26639d1373",
   "metadata": {},
   "outputs": [],
   "source": [
    "def parse_input(input_string):\n",
    "    \"\"\"Return `input_string` as an integer between 1 and 6.\n",
    "\n",
    "    Check if `input_string` is an integer number between 1 and 6.\n",
    "    If so, return an integer with the same value. Otherwise, tell\n",
    "    the user to enter a valid number and quit the program.\n",
    "    \"\"\"\n",
    "    if input_string.strip() in {\"1\", \"2\", \"3\", \"4\", \"5\", \"6\"}:\n",
    "        return int(input_string)\n",
    "    else:\n",
    "        print(\"Please enter a number from 1 to 6.\")\n",
    "        raise SystemExit(1)"
   ]
  },
  {
   "cell_type": "code",
   "execution_count": 5,
   "id": "f141bfc2-82c1-4523-af3a-be90883e07c5",
   "metadata": {},
   "outputs": [
    {
     "name": "stdin",
     "output_type": "stream",
     "text": [
      "How many dice do you want to roll? [1-6]  5\n"
     ]
    }
   ],
   "source": [
    "num_dice_input = input(\"How many dice do you want to roll? [1-6] \")\n",
    "num_dice = parse_input(num_dice_input)"
   ]
  },
  {
   "cell_type": "code",
   "execution_count": 8,
   "id": "37eb74d7-0c27-4447-93dd-aadd8061e7ee",
   "metadata": {},
   "outputs": [],
   "source": [
    "def roll_dice(num_dice):\n",
    "    \"\"\"Return a list of integers with length `num_dice`.\n",
    "\n",
    "    Each integer in the returned list is a random number between\n",
    "    1 and 6, inclusive.\n",
    "    \"\"\"\n",
    "    roll_results = []\n",
    "    for n in range(num_dice):\n",
    "        roll = random.randint(1, 6)\n",
    "        roll_results.append(roll)\n",
    "    return roll_results"
   ]
  },
  {
   "cell_type": "code",
   "execution_count": 10,
   "id": "e884c177-b174-4931-9089-222b3548b144",
   "metadata": {},
   "outputs": [],
   "source": [
    "roll_results = roll_dice(num_dice)"
   ]
  },
  {
   "cell_type": "code",
   "execution_count": 11,
   "id": "853a85b0-7ab8-480c-97ca-3b778685b7ec",
   "metadata": {},
   "outputs": [
    {
     "name": "stdout",
     "output_type": "stream",
     "text": [
      "[1, 2, 5, 2, 2]\n"
     ]
    }
   ],
   "source": [
    "print(roll_results)"
   ]
  },
  {
   "cell_type": "code",
   "execution_count": null,
   "id": "0395fce4-944e-4a85-ba56-8e70fce36858",
   "metadata": {},
   "outputs": [],
   "source": []
  }
 ],
 "metadata": {
  "kernelspec": {
   "display_name": "Python 3 (ipykernel)",
   "language": "python",
   "name": "python3"
  },
  "language_info": {
   "codemirror_mode": {
    "name": "ipython",
    "version": 3
   },
   "file_extension": ".py",
   "mimetype": "text/x-python",
   "name": "python",
   "nbconvert_exporter": "python",
   "pygments_lexer": "ipython3",
   "version": "3.9.12"
  }
 },
 "nbformat": 4,
 "nbformat_minor": 5
}
